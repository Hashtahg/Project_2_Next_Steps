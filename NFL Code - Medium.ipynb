{
 "cells": [
  {
   "cell_type": "code",
   "execution_count": 1,
   "metadata": {},
   "outputs": [],
   "source": [
    "# Used for plotting data\n",
    "%matplotlib inline\n",
    "import matplotlib.pyplot as plt\n",
    "\n",
    "# Used for data storage and manipulation \n",
    "import numpy as np\n",
    "import pandas as pd\n",
    "\n",
    "# Used for Regression Modelling\n",
    "from sklearn.linear_model import LinearRegression\n",
    "from sklearn import linear_model\n",
    "from sklearn.model_selection import train_test_split\n",
    "\n",
    "# Used for Acc metrics\n",
    "from sklearn.metrics import mean_squared_error\n",
    "from sklearn.metrics import r2_score\n",
    "\n",
    "# For stepwise regression\n",
    "import statsmodels.api as sm\n",
    "\n",
    "# box plots\n",
    "import seaborn as sns\n",
    "# pairplot\n",
    "from seaborn import pairplot\n",
    "# Correlation plot\n",
    "from statsmodels.graphics.correlation import plot_corr"
   ]
  },
  {
   "cell_type": "code",
   "execution_count": 2,
   "metadata": {},
   "outputs": [],
   "source": [
    "# Load your data \n",
    "data = pd.read_csv(\"NFL data.csv\")"
   ]
  },
  {
   "cell_type": "code",
   "execution_count": 3,
   "metadata": {},
   "outputs": [
    {
     "name": "stdout",
     "output_type": "stream",
     "text": [
      "(12144, 18)\n"
     ]
    },
    {
     "data": {
      "text/html": [
       "<div>\n",
       "<style scoped>\n",
       "    .dataframe tbody tr th:only-of-type {\n",
       "        vertical-align: middle;\n",
       "    }\n",
       "\n",
       "    .dataframe tbody tr th {\n",
       "        vertical-align: top;\n",
       "    }\n",
       "\n",
       "    .dataframe thead th {\n",
       "        text-align: right;\n",
       "    }\n",
       "</style>\n",
       "<table border=\"1\" class=\"dataframe\">\n",
       "  <thead>\n",
       "    <tr style=\"text-align: right;\">\n",
       "      <th></th>\n",
       "      <th>schedule_date</th>\n",
       "      <th>schedule_season</th>\n",
       "      <th>schedule_week</th>\n",
       "      <th>team_home</th>\n",
       "      <th>team_away</th>\n",
       "      <th>stadium</th>\n",
       "      <th>team_favorite_id</th>\n",
       "      <th>spread_favorite</th>\n",
       "      <th>over_under_line</th>\n",
       "      <th>weather_detail</th>\n",
       "      <th>weather_temperature</th>\n",
       "      <th>weather_wind_mph</th>\n",
       "      <th>weather_humidity</th>\n",
       "      <th>score_home</th>\n",
       "      <th>score_away</th>\n",
       "      <th>stadium_neutral</th>\n",
       "      <th>schedule_playoff</th>\n",
       "      <th>game_id</th>\n",
       "    </tr>\n",
       "  </thead>\n",
       "  <tbody>\n",
       "    <tr>\n",
       "      <th>0</th>\n",
       "      <td>09/02/1966</td>\n",
       "      <td>1966</td>\n",
       "      <td>1</td>\n",
       "      <td>Miami Dolphins</td>\n",
       "      <td>Oakland Raiders</td>\n",
       "      <td>Orange Bowl</td>\n",
       "      <td>NaN</td>\n",
       "      <td>NaN</td>\n",
       "      <td>NaN</td>\n",
       "      <td>NaN</td>\n",
       "      <td>83.0</td>\n",
       "      <td>6.0</td>\n",
       "      <td>71</td>\n",
       "      <td>14</td>\n",
       "      <td>23</td>\n",
       "      <td>False</td>\n",
       "      <td>False</td>\n",
       "      <td>19660902OAKMIA</td>\n",
       "    </tr>\n",
       "    <tr>\n",
       "      <th>1</th>\n",
       "      <td>09/03/1966</td>\n",
       "      <td>1966</td>\n",
       "      <td>1</td>\n",
       "      <td>Houston Oilers</td>\n",
       "      <td>Denver Broncos</td>\n",
       "      <td>Rice Stadium</td>\n",
       "      <td>NaN</td>\n",
       "      <td>NaN</td>\n",
       "      <td>NaN</td>\n",
       "      <td>NaN</td>\n",
       "      <td>81.0</td>\n",
       "      <td>7.0</td>\n",
       "      <td>70</td>\n",
       "      <td>45</td>\n",
       "      <td>7</td>\n",
       "      <td>False</td>\n",
       "      <td>False</td>\n",
       "      <td>19660903DENTEN</td>\n",
       "    </tr>\n",
       "    <tr>\n",
       "      <th>2</th>\n",
       "      <td>09/04/1966</td>\n",
       "      <td>1966</td>\n",
       "      <td>1</td>\n",
       "      <td>San Diego Chargers</td>\n",
       "      <td>Buffalo Bills</td>\n",
       "      <td>Balboa Stadium</td>\n",
       "      <td>NaN</td>\n",
       "      <td>NaN</td>\n",
       "      <td>NaN</td>\n",
       "      <td>NaN</td>\n",
       "      <td>70.0</td>\n",
       "      <td>7.0</td>\n",
       "      <td>82</td>\n",
       "      <td>27</td>\n",
       "      <td>7</td>\n",
       "      <td>False</td>\n",
       "      <td>False</td>\n",
       "      <td>19660904BUFLAC</td>\n",
       "    </tr>\n",
       "    <tr>\n",
       "      <th>3</th>\n",
       "      <td>09/09/1966</td>\n",
       "      <td>1966</td>\n",
       "      <td>2</td>\n",
       "      <td>Miami Dolphins</td>\n",
       "      <td>New York Jets</td>\n",
       "      <td>Orange Bowl</td>\n",
       "      <td>NaN</td>\n",
       "      <td>NaN</td>\n",
       "      <td>NaN</td>\n",
       "      <td>NaN</td>\n",
       "      <td>82.0</td>\n",
       "      <td>11.0</td>\n",
       "      <td>78</td>\n",
       "      <td>14</td>\n",
       "      <td>19</td>\n",
       "      <td>False</td>\n",
       "      <td>False</td>\n",
       "      <td>19660909NYJMIA</td>\n",
       "    </tr>\n",
       "    <tr>\n",
       "      <th>4</th>\n",
       "      <td>09/10/1966</td>\n",
       "      <td>1966</td>\n",
       "      <td>1</td>\n",
       "      <td>Green Bay Packers</td>\n",
       "      <td>Baltimore Colts</td>\n",
       "      <td>Lambeau Field</td>\n",
       "      <td>NaN</td>\n",
       "      <td>NaN</td>\n",
       "      <td>NaN</td>\n",
       "      <td>64 degrees-  humidity 62%- wind 8 mph</td>\n",
       "      <td>64.0</td>\n",
       "      <td>8.0</td>\n",
       "      <td>62</td>\n",
       "      <td>24</td>\n",
       "      <td>3</td>\n",
       "      <td>False</td>\n",
       "      <td>False</td>\n",
       "      <td>19660910INDGB</td>\n",
       "    </tr>\n",
       "  </tbody>\n",
       "</table>\n",
       "</div>"
      ],
      "text/plain": [
       "  schedule_date  schedule_season schedule_week           team_home  \\\n",
       "0    09/02/1966             1966             1      Miami Dolphins   \n",
       "1    09/03/1966             1966             1      Houston Oilers   \n",
       "2    09/04/1966             1966             1  San Diego Chargers   \n",
       "3    09/09/1966             1966             2      Miami Dolphins   \n",
       "4    09/10/1966             1966             1   Green Bay Packers   \n",
       "\n",
       "         team_away         stadium team_favorite_id  spread_favorite  \\\n",
       "0  Oakland Raiders     Orange Bowl              NaN              NaN   \n",
       "1   Denver Broncos    Rice Stadium              NaN              NaN   \n",
       "2    Buffalo Bills  Balboa Stadium              NaN              NaN   \n",
       "3    New York Jets     Orange Bowl              NaN              NaN   \n",
       "4  Baltimore Colts   Lambeau Field              NaN              NaN   \n",
       "\n",
       "  over_under_line                         weather_detail  weather_temperature  \\\n",
       "0             NaN                                    NaN                 83.0   \n",
       "1             NaN                                    NaN                 81.0   \n",
       "2             NaN                                    NaN                 70.0   \n",
       "3             NaN                                    NaN                 82.0   \n",
       "4             NaN  64 degrees-  humidity 62%- wind 8 mph                 64.0   \n",
       "\n",
       "   weather_wind_mph weather_humidity  score_home  score_away  stadium_neutral  \\\n",
       "0               6.0               71          14          23            False   \n",
       "1               7.0               70          45           7            False   \n",
       "2               7.0               82          27           7            False   \n",
       "3              11.0               78          14          19            False   \n",
       "4               8.0               62          24           3            False   \n",
       "\n",
       "   schedule_playoff         game_id  \n",
       "0             False  19660902OAKMIA  \n",
       "1             False  19660903DENTEN  \n",
       "2             False  19660904BUFLAC  \n",
       "3             False  19660909NYJMIA  \n",
       "4             False   19660910INDGB  "
      ]
     },
     "execution_count": 3,
     "metadata": {},
     "output_type": "execute_result"
    }
   ],
   "source": [
    "# adding .head() to your dataset allows you to see the first rows in the dataset. \n",
    "# Add a # inside the brackets to specificy how many rows are returned or else 5 rows are returned.\n",
    "print(data.shape)\n",
    "# (12144, 18)\n",
    "data.head()"
   ]
  },
  {
   "cell_type": "code",
   "execution_count": 4,
   "metadata": {},
   "outputs": [
    {
     "data": {
      "text/plain": [
       "schedule_date             0\n",
       "schedule_season           0\n",
       "schedule_week             0\n",
       "team_home                 0\n",
       "team_away                 0\n",
       "stadium                 281\n",
       "team_favorite_id       2479\n",
       "spread_favorite        2479\n",
       "over_under_line        2489\n",
       "weather_detail         7719\n",
       "weather_temperature     610\n",
       "weather_wind_mph        610\n",
       "weather_humidity       3778\n",
       "score_home                0\n",
       "score_away                0\n",
       "stadium_neutral           0\n",
       "schedule_playoff          0\n",
       "game_id                 669\n",
       "dtype: int64"
      ]
     },
     "execution_count": 4,
     "metadata": {},
     "output_type": "execute_result"
    }
   ],
   "source": [
    "# check for the null values in each column\n",
    "data.isna().sum()"
   ]
  },
  {
   "cell_type": "code",
   "execution_count": 5,
   "metadata": {},
   "outputs": [
    {
     "name": "stdout",
     "output_type": "stream",
     "text": [
      "<class 'pandas.core.frame.DataFrame'>\n",
      "RangeIndex: 12144 entries, 0 to 12143\n",
      "Data columns (total 18 columns):\n",
      " #   Column               Non-Null Count  Dtype  \n",
      "---  ------               --------------  -----  \n",
      " 0   schedule_date        12144 non-null  object \n",
      " 1   schedule_season      12144 non-null  int64  \n",
      " 2   schedule_week        12144 non-null  object \n",
      " 3   team_home            12144 non-null  object \n",
      " 4   team_away            12144 non-null  object \n",
      " 5   stadium              11863 non-null  object \n",
      " 6   team_favorite_id     9665 non-null   object \n",
      " 7   spread_favorite      9665 non-null   float64\n",
      " 8   over_under_line      9655 non-null   object \n",
      " 9   weather_detail       4425 non-null   object \n",
      " 10  weather_temperature  11534 non-null  float64\n",
      " 11  weather_wind_mph     11534 non-null  float64\n",
      " 12  weather_humidity     8366 non-null   object \n",
      " 13  score_home           12144 non-null  int64  \n",
      " 14  score_away           12144 non-null  int64  \n",
      " 15  stadium_neutral      12144 non-null  bool   \n",
      " 16  schedule_playoff     12144 non-null  bool   \n",
      " 17  game_id              11475 non-null  object \n",
      "dtypes: bool(2), float64(3), int64(3), object(10)\n",
      "memory usage: 1.5+ MB\n"
     ]
    }
   ],
   "source": [
    "# Gives you useful info about your data\n",
    "data.info()"
   ]
  },
  {
   "cell_type": "code",
   "execution_count": 6,
   "metadata": {},
   "outputs": [
    {
     "data": {
      "text/html": [
       "<div>\n",
       "<style scoped>\n",
       "    .dataframe tbody tr th:only-of-type {\n",
       "        vertical-align: middle;\n",
       "    }\n",
       "\n",
       "    .dataframe tbody tr th {\n",
       "        vertical-align: top;\n",
       "    }\n",
       "\n",
       "    .dataframe thead th {\n",
       "        text-align: right;\n",
       "    }\n",
       "</style>\n",
       "<table border=\"1\" class=\"dataframe\">\n",
       "  <thead>\n",
       "    <tr style=\"text-align: right;\">\n",
       "      <th></th>\n",
       "      <th>schedule_season</th>\n",
       "      <th>spread_favorite</th>\n",
       "      <th>weather_temperature</th>\n",
       "      <th>weather_wind_mph</th>\n",
       "      <th>score_home</th>\n",
       "      <th>score_away</th>\n",
       "    </tr>\n",
       "  </thead>\n",
       "  <tbody>\n",
       "    <tr>\n",
       "      <th>count</th>\n",
       "      <td>12144.000000</td>\n",
       "      <td>9665.000000</td>\n",
       "      <td>11534.000000</td>\n",
       "      <td>11534.000000</td>\n",
       "      <td>12144.000000</td>\n",
       "      <td>12144.000000</td>\n",
       "    </tr>\n",
       "    <tr>\n",
       "      <th>mean</th>\n",
       "      <td>1993.376565</td>\n",
       "      <td>-5.373099</td>\n",
       "      <td>58.416334</td>\n",
       "      <td>7.971216</td>\n",
       "      <td>22.307395</td>\n",
       "      <td>19.476861</td>\n",
       "    </tr>\n",
       "    <tr>\n",
       "      <th>std</th>\n",
       "      <td>14.754571</td>\n",
       "      <td>3.412725</td>\n",
       "      <td>15.543878</td>\n",
       "      <td>5.597581</td>\n",
       "      <td>10.573272</td>\n",
       "      <td>10.138413</td>\n",
       "    </tr>\n",
       "    <tr>\n",
       "      <th>min</th>\n",
       "      <td>1966.000000</td>\n",
       "      <td>-26.500000</td>\n",
       "      <td>-6.000000</td>\n",
       "      <td>0.000000</td>\n",
       "      <td>0.000000</td>\n",
       "      <td>0.000000</td>\n",
       "    </tr>\n",
       "    <tr>\n",
       "      <th>25%</th>\n",
       "      <td>1981.000000</td>\n",
       "      <td>-7.000000</td>\n",
       "      <td>48.000000</td>\n",
       "      <td>4.000000</td>\n",
       "      <td>14.000000</td>\n",
       "      <td>13.000000</td>\n",
       "    </tr>\n",
       "    <tr>\n",
       "      <th>50%</th>\n",
       "      <td>1994.000000</td>\n",
       "      <td>-4.500000</td>\n",
       "      <td>61.000000</td>\n",
       "      <td>8.000000</td>\n",
       "      <td>21.000000</td>\n",
       "      <td>19.000000</td>\n",
       "    </tr>\n",
       "    <tr>\n",
       "      <th>75%</th>\n",
       "      <td>2006.000000</td>\n",
       "      <td>-3.000000</td>\n",
       "      <td>72.000000</td>\n",
       "      <td>12.000000</td>\n",
       "      <td>29.000000</td>\n",
       "      <td>27.000000</td>\n",
       "    </tr>\n",
       "    <tr>\n",
       "      <th>max</th>\n",
       "      <td>2017.000000</td>\n",
       "      <td>0.000000</td>\n",
       "      <td>95.000000</td>\n",
       "      <td>40.000000</td>\n",
       "      <td>72.000000</td>\n",
       "      <td>62.000000</td>\n",
       "    </tr>\n",
       "  </tbody>\n",
       "</table>\n",
       "</div>"
      ],
      "text/plain": [
       "       schedule_season  spread_favorite  weather_temperature  \\\n",
       "count     12144.000000      9665.000000         11534.000000   \n",
       "mean       1993.376565        -5.373099            58.416334   \n",
       "std          14.754571         3.412725            15.543878   \n",
       "min        1966.000000       -26.500000            -6.000000   \n",
       "25%        1981.000000        -7.000000            48.000000   \n",
       "50%        1994.000000        -4.500000            61.000000   \n",
       "75%        2006.000000        -3.000000            72.000000   \n",
       "max        2017.000000         0.000000            95.000000   \n",
       "\n",
       "       weather_wind_mph    score_home    score_away  \n",
       "count      11534.000000  12144.000000  12144.000000  \n",
       "mean           7.971216     22.307395     19.476861  \n",
       "std            5.597581     10.573272     10.138413  \n",
       "min            0.000000      0.000000      0.000000  \n",
       "25%            4.000000     14.000000     13.000000  \n",
       "50%            8.000000     21.000000     19.000000  \n",
       "75%           12.000000     29.000000     27.000000  \n",
       "max           40.000000     72.000000     62.000000  "
      ]
     },
     "execution_count": 6,
     "metadata": {},
     "output_type": "execute_result"
    }
   ],
   "source": [
    "# Gives you summary statistics on your numeric columns\n",
    "data.describe()"
   ]
  },
  {
   "cell_type": "code",
   "execution_count": 7,
   "metadata": {},
   "outputs": [],
   "source": [
    "# return only rows where the year is greater than 2015\n",
    "current = data[(data['schedule_season'] > 2015)]"
   ]
  },
  {
   "cell_type": "code",
   "execution_count": 8,
   "metadata": {},
   "outputs": [],
   "source": [
    "#  no warning message and no exception is raised\n",
    "pd.options.mode.chained_assignment = None  # default='warn'\n",
    "# Create a column titled home or away. This column will add a 1 to the row where the New England Patriots played at home \n",
    "# and a 0 for away games.\n",
    "current['home_or_away'] = np.where(current['team_home'] == 'Green Bay Packers', 1, 0)"
   ]
  },
  {
   "cell_type": "code",
   "execution_count": 9,
   "metadata": {},
   "outputs": [
    {
     "data": {
      "text/html": [
       "<div>\n",
       "<style scoped>\n",
       "    .dataframe tbody tr th:only-of-type {\n",
       "        vertical-align: middle;\n",
       "    }\n",
       "\n",
       "    .dataframe tbody tr th {\n",
       "        vertical-align: top;\n",
       "    }\n",
       "\n",
       "    .dataframe thead th {\n",
       "        text-align: right;\n",
       "    }\n",
       "</style>\n",
       "<table border=\"1\" class=\"dataframe\">\n",
       "  <thead>\n",
       "    <tr style=\"text-align: right;\">\n",
       "      <th></th>\n",
       "      <th>team_home</th>\n",
       "      <th>team_away</th>\n",
       "      <th>score_home</th>\n",
       "      <th>score_away</th>\n",
       "      <th>weather_temperature</th>\n",
       "      <th>home_or_away</th>\n",
       "      <th>over_under_line</th>\n",
       "      <th>score</th>\n",
       "    </tr>\n",
       "  </thead>\n",
       "  <tbody>\n",
       "    <tr>\n",
       "      <th>11617</th>\n",
       "      <td>Jacksonville Jaguars</td>\n",
       "      <td>Green Bay Packers</td>\n",
       "      <td>23</td>\n",
       "      <td>27</td>\n",
       "      <td>91.0</td>\n",
       "      <td>0</td>\n",
       "      <td>47.5</td>\n",
       "      <td>27</td>\n",
       "    </tr>\n",
       "    <tr>\n",
       "      <th>11641</th>\n",
       "      <td>Minnesota Vikings</td>\n",
       "      <td>Green Bay Packers</td>\n",
       "      <td>17</td>\n",
       "      <td>14</td>\n",
       "      <td>72.0</td>\n",
       "      <td>0</td>\n",
       "      <td>43</td>\n",
       "      <td>14</td>\n",
       "    </tr>\n",
       "    <tr>\n",
       "      <th>11647</th>\n",
       "      <td>Green Bay Packers</td>\n",
       "      <td>Detroit Lions</td>\n",
       "      <td>34</td>\n",
       "      <td>27</td>\n",
       "      <td>72.0</td>\n",
       "      <td>1</td>\n",
       "      <td>47.5</td>\n",
       "      <td>34</td>\n",
       "    </tr>\n",
       "    <tr>\n",
       "      <th>11679</th>\n",
       "      <td>Green Bay Packers</td>\n",
       "      <td>New York Giants</td>\n",
       "      <td>23</td>\n",
       "      <td>16</td>\n",
       "      <td>48.0</td>\n",
       "      <td>1</td>\n",
       "      <td>49</td>\n",
       "      <td>23</td>\n",
       "    </tr>\n",
       "    <tr>\n",
       "      <th>11691</th>\n",
       "      <td>Green Bay Packers</td>\n",
       "      <td>Dallas Cowboys</td>\n",
       "      <td>16</td>\n",
       "      <td>30</td>\n",
       "      <td>67.0</td>\n",
       "      <td>1</td>\n",
       "      <td>47</td>\n",
       "      <td>16</td>\n",
       "    </tr>\n",
       "  </tbody>\n",
       "</table>\n",
       "</div>"
      ],
      "text/plain": [
       "                  team_home          team_away  score_home  score_away  \\\n",
       "11617  Jacksonville Jaguars  Green Bay Packers          23          27   \n",
       "11641     Minnesota Vikings  Green Bay Packers          17          14   \n",
       "11647     Green Bay Packers      Detroit Lions          34          27   \n",
       "11679     Green Bay Packers    New York Giants          23          16   \n",
       "11691     Green Bay Packers     Dallas Cowboys          16          30   \n",
       "\n",
       "       weather_temperature  home_or_away over_under_line  score  \n",
       "11617                 91.0             0            47.5     27  \n",
       "11641                 72.0             0              43     14  \n",
       "11647                 72.0             1            47.5     34  \n",
       "11679                 48.0             1              49     23  \n",
       "11691                 67.0             1              47     16  "
      ]
     },
     "execution_count": 9,
     "metadata": {},
     "output_type": "execute_result"
    }
   ],
   "source": [
    "# Return rows where New England Patriots are either the home or away team\n",
    "current2 = current.loc[(current[\"team_home\"] == \"Green Bay Packers\") | (current[\"team_away\"] == \"Green Bay Packers\")]\n",
    "\n",
    "# filter to certain columns\n",
    "final = current2.filter([\"team_home\",\"team_away\" , \"score_home\",\"score_away\" ,\"weather_temperature\", \"home_or_away\", \"over_under_line\"])\n",
    "\n",
    "# merge score_away & score_home into column 'score'\n",
    "final['score'] = np.where(final['team_away'] == 'Green Bay Packers', final['score_away'], final['score_home'])\n",
    "\n",
    "\n",
    "# Before showing our final dataset we will drop any rows with NA values.\n",
    "final = final.dropna()\n",
    "final.head()"
   ]
  },
  {
   "cell_type": "code",
   "execution_count": 10,
   "metadata": {},
   "outputs": [
    {
     "data": {
      "text/html": [
       "<div>\n",
       "<style scoped>\n",
       "    .dataframe tbody tr th:only-of-type {\n",
       "        vertical-align: middle;\n",
       "    }\n",
       "\n",
       "    .dataframe tbody tr th {\n",
       "        vertical-align: top;\n",
       "    }\n",
       "\n",
       "    .dataframe thead th {\n",
       "        text-align: right;\n",
       "    }\n",
       "</style>\n",
       "<table border=\"1\" class=\"dataframe\">\n",
       "  <thead>\n",
       "    <tr style=\"text-align: right;\">\n",
       "      <th></th>\n",
       "      <th>team_home</th>\n",
       "      <th>team_away</th>\n",
       "      <th>score_home</th>\n",
       "      <th>score_away</th>\n",
       "      <th>weather_temperature</th>\n",
       "      <th>home_or_away</th>\n",
       "      <th>over_under_line</th>\n",
       "      <th>score</th>\n",
       "      <th>2_game_avg</th>\n",
       "      <th>5_game_avg</th>\n",
       "    </tr>\n",
       "  </thead>\n",
       "  <tbody>\n",
       "    <tr>\n",
       "      <th>11617</th>\n",
       "      <td>Jacksonville Jaguars</td>\n",
       "      <td>Green Bay Packers</td>\n",
       "      <td>23</td>\n",
       "      <td>27</td>\n",
       "      <td>91.0</td>\n",
       "      <td>0</td>\n",
       "      <td>47.5</td>\n",
       "      <td>27</td>\n",
       "      <td>NaN</td>\n",
       "      <td>NaN</td>\n",
       "    </tr>\n",
       "    <tr>\n",
       "      <th>11641</th>\n",
       "      <td>Minnesota Vikings</td>\n",
       "      <td>Green Bay Packers</td>\n",
       "      <td>17</td>\n",
       "      <td>14</td>\n",
       "      <td>72.0</td>\n",
       "      <td>0</td>\n",
       "      <td>43</td>\n",
       "      <td>14</td>\n",
       "      <td>20.5</td>\n",
       "      <td>NaN</td>\n",
       "    </tr>\n",
       "    <tr>\n",
       "      <th>11647</th>\n",
       "      <td>Green Bay Packers</td>\n",
       "      <td>Detroit Lions</td>\n",
       "      <td>34</td>\n",
       "      <td>27</td>\n",
       "      <td>72.0</td>\n",
       "      <td>1</td>\n",
       "      <td>47.5</td>\n",
       "      <td>34</td>\n",
       "      <td>24.0</td>\n",
       "      <td>NaN</td>\n",
       "    </tr>\n",
       "    <tr>\n",
       "      <th>11679</th>\n",
       "      <td>Green Bay Packers</td>\n",
       "      <td>New York Giants</td>\n",
       "      <td>23</td>\n",
       "      <td>16</td>\n",
       "      <td>48.0</td>\n",
       "      <td>1</td>\n",
       "      <td>49</td>\n",
       "      <td>23</td>\n",
       "      <td>28.5</td>\n",
       "      <td>NaN</td>\n",
       "    </tr>\n",
       "    <tr>\n",
       "      <th>11691</th>\n",
       "      <td>Green Bay Packers</td>\n",
       "      <td>Dallas Cowboys</td>\n",
       "      <td>16</td>\n",
       "      <td>30</td>\n",
       "      <td>67.0</td>\n",
       "      <td>1</td>\n",
       "      <td>47</td>\n",
       "      <td>16</td>\n",
       "      <td>19.5</td>\n",
       "      <td>22.8</td>\n",
       "    </tr>\n",
       "  </tbody>\n",
       "</table>\n",
       "</div>"
      ],
      "text/plain": [
       "                  team_home          team_away  score_home  score_away  \\\n",
       "11617  Jacksonville Jaguars  Green Bay Packers          23          27   \n",
       "11641     Minnesota Vikings  Green Bay Packers          17          14   \n",
       "11647     Green Bay Packers      Detroit Lions          34          27   \n",
       "11679     Green Bay Packers    New York Giants          23          16   \n",
       "11691     Green Bay Packers     Dallas Cowboys          16          30   \n",
       "\n",
       "       weather_temperature  home_or_away over_under_line  score  2_game_avg  \\\n",
       "11617                 91.0             0            47.5     27         NaN   \n",
       "11641                 72.0             0              43     14        20.5   \n",
       "11647                 72.0             1            47.5     34        24.0   \n",
       "11679                 48.0             1              49     23        28.5   \n",
       "11691                 67.0             1              47     16        19.5   \n",
       "\n",
       "       5_game_avg  \n",
       "11617         NaN  \n",
       "11641         NaN  \n",
       "11647         NaN  \n",
       "11679         NaN  \n",
       "11691        22.8  "
      ]
     },
     "execution_count": 10,
     "metadata": {},
     "output_type": "execute_result"
    }
   ],
   "source": [
    "final['2_game_avg'] = final.score.rolling(window=2).mean()\n",
    "final['5_game_avg'] = final.score.rolling(window=5).mean()\n",
    "\n",
    "final.head()"
   ]
  },
  {
   "cell_type": "code",
   "execution_count": 11,
   "metadata": {},
   "outputs": [
    {
     "name": "stderr",
     "output_type": "stream",
     "text": [
      "C:\\Users\\bips9\\anaconda3\\envs\\fpenv\\lib\\site-packages\\ipykernel_launcher.py:1: FutureWarning: Dropping of nuisance columns in DataFrame reductions (with 'numeric_only=None') is deprecated; in a future version this will raise TypeError.  Select only valid columns before calling the reduction.\n",
      "  \"\"\"Entry point for launching an IPython kernel.\n"
     ]
    }
   ],
   "source": [
    "final = final.fillna(final.mean())"
   ]
  },
  {
   "cell_type": "code",
   "execution_count": 12,
   "metadata": {},
   "outputs": [
    {
     "data": {
      "text/html": [
       "<div>\n",
       "<style scoped>\n",
       "    .dataframe tbody tr th:only-of-type {\n",
       "        vertical-align: middle;\n",
       "    }\n",
       "\n",
       "    .dataframe tbody tr th {\n",
       "        vertical-align: top;\n",
       "    }\n",
       "\n",
       "    .dataframe thead th {\n",
       "        text-align: right;\n",
       "    }\n",
       "</style>\n",
       "<table border=\"1\" class=\"dataframe\">\n",
       "  <thead>\n",
       "    <tr style=\"text-align: right;\">\n",
       "      <th></th>\n",
       "      <th>score_home</th>\n",
       "      <th>score_away</th>\n",
       "      <th>weather_temperature</th>\n",
       "      <th>home_or_away</th>\n",
       "      <th>score</th>\n",
       "      <th>2_game_avg</th>\n",
       "      <th>5_game_avg</th>\n",
       "    </tr>\n",
       "  </thead>\n",
       "  <tbody>\n",
       "    <tr>\n",
       "      <th>count</th>\n",
       "      <td>35.000000</td>\n",
       "      <td>35.000000</td>\n",
       "      <td>35.000000</td>\n",
       "      <td>35.000000</td>\n",
       "      <td>35.000000</td>\n",
       "      <td>35.000000</td>\n",
       "      <td>35.000000</td>\n",
       "    </tr>\n",
       "    <tr>\n",
       "      <th>mean</th>\n",
       "      <td>26.342857</td>\n",
       "      <td>22.371429</td>\n",
       "      <td>52.428571</td>\n",
       "      <td>0.485714</td>\n",
       "      <td>24.142857</td>\n",
       "      <td>24.294118</td>\n",
       "      <td>24.935484</td>\n",
       "    </tr>\n",
       "    <tr>\n",
       "      <th>std</th>\n",
       "      <td>10.868040</td>\n",
       "      <td>7.738695</td>\n",
       "      <td>21.667658</td>\n",
       "      <td>0.507093</td>\n",
       "      <td>9.536749</td>\n",
       "      <td>7.416315</td>\n",
       "      <td>4.649956</td>\n",
       "    </tr>\n",
       "    <tr>\n",
       "      <th>min</th>\n",
       "      <td>0.000000</td>\n",
       "      <td>9.000000</td>\n",
       "      <td>9.000000</td>\n",
       "      <td>0.000000</td>\n",
       "      <td>0.000000</td>\n",
       "      <td>5.500000</td>\n",
       "      <td>13.400000</td>\n",
       "    </tr>\n",
       "    <tr>\n",
       "      <th>25%</th>\n",
       "      <td>19.000000</td>\n",
       "      <td>15.000000</td>\n",
       "      <td>36.500000</td>\n",
       "      <td>0.000000</td>\n",
       "      <td>19.000000</td>\n",
       "      <td>20.000000</td>\n",
       "      <td>22.700000</td>\n",
       "    </tr>\n",
       "    <tr>\n",
       "      <th>50%</th>\n",
       "      <td>26.000000</td>\n",
       "      <td>24.000000</td>\n",
       "      <td>54.000000</td>\n",
       "      <td>0.000000</td>\n",
       "      <td>26.000000</td>\n",
       "      <td>25.000000</td>\n",
       "      <td>24.935484</td>\n",
       "    </tr>\n",
       "    <tr>\n",
       "      <th>75%</th>\n",
       "      <td>34.000000</td>\n",
       "      <td>27.500000</td>\n",
       "      <td>72.000000</td>\n",
       "      <td>1.000000</td>\n",
       "      <td>30.500000</td>\n",
       "      <td>29.000000</td>\n",
       "      <td>26.900000</td>\n",
       "    </tr>\n",
       "    <tr>\n",
       "      <th>max</th>\n",
       "      <td>47.000000</td>\n",
       "      <td>35.000000</td>\n",
       "      <td>91.000000</td>\n",
       "      <td>1.000000</td>\n",
       "      <td>38.000000</td>\n",
       "      <td>36.000000</td>\n",
       "      <td>35.000000</td>\n",
       "    </tr>\n",
       "  </tbody>\n",
       "</table>\n",
       "</div>"
      ],
      "text/plain": [
       "       score_home  score_away  weather_temperature  home_or_away      score  \\\n",
       "count   35.000000   35.000000            35.000000     35.000000  35.000000   \n",
       "mean    26.342857   22.371429            52.428571      0.485714  24.142857   \n",
       "std     10.868040    7.738695            21.667658      0.507093   9.536749   \n",
       "min      0.000000    9.000000             9.000000      0.000000   0.000000   \n",
       "25%     19.000000   15.000000            36.500000      0.000000  19.000000   \n",
       "50%     26.000000   24.000000            54.000000      0.000000  26.000000   \n",
       "75%     34.000000   27.500000            72.000000      1.000000  30.500000   \n",
       "max     47.000000   35.000000            91.000000      1.000000  38.000000   \n",
       "\n",
       "       2_game_avg  5_game_avg  \n",
       "count   35.000000   35.000000  \n",
       "mean    24.294118   24.935484  \n",
       "std      7.416315    4.649956  \n",
       "min      5.500000   13.400000  \n",
       "25%     20.000000   22.700000  \n",
       "50%     25.000000   24.935484  \n",
       "75%     29.000000   26.900000  \n",
       "max     36.000000   35.000000  "
      ]
     },
     "execution_count": 12,
     "metadata": {},
     "output_type": "execute_result"
    }
   ],
   "source": [
    "# This time we're checking for Outliers. Check each columns min & max to make sure the # is plausible\n",
    "final.describe()"
   ]
  },
  {
   "cell_type": "code",
   "execution_count": 13,
   "metadata": {},
   "outputs": [],
   "source": [
    "#  no warning message and no exception is raised\n",
    "# pd.options.mode.chained_assignment = None  # default='warn'"
   ]
  },
  {
   "cell_type": "code",
   "execution_count": 14,
   "metadata": {},
   "outputs": [],
   "source": [
    "df = final[['weather_temperature', 'over_under_line','home_or_away', '2_game_avg','5_game_avg', 'score']]"
   ]
  },
  {
   "cell_type": "code",
   "execution_count": 15,
   "metadata": {},
   "outputs": [
    {
     "name": "stdout",
     "output_type": "stream",
     "text": [
      "<class 'pandas.core.frame.DataFrame'>\n",
      "Int64Index: 35 entries, 11617 to 12120\n",
      "Data columns (total 6 columns):\n",
      " #   Column               Non-Null Count  Dtype  \n",
      "---  ------               --------------  -----  \n",
      " 0   weather_temperature  35 non-null     float64\n",
      " 1   over_under_line      35 non-null     object \n",
      " 2   home_or_away         35 non-null     int32  \n",
      " 3   2_game_avg           35 non-null     float64\n",
      " 4   5_game_avg           35 non-null     float64\n",
      " 5   score                35 non-null     int64  \n",
      "dtypes: float64(3), int32(1), int64(1), object(1)\n",
      "memory usage: 1.8+ KB\n"
     ]
    }
   ],
   "source": [
    "df.info()"
   ]
  },
  {
   "cell_type": "code",
   "execution_count": 16,
   "metadata": {},
   "outputs": [
    {
     "name": "stdout",
     "output_type": "stream",
     "text": [
      "<class 'pandas.core.frame.DataFrame'>\n",
      "Int64Index: 35 entries, 11617 to 12120\n",
      "Data columns (total 6 columns):\n",
      " #   Column               Non-Null Count  Dtype  \n",
      "---  ------               --------------  -----  \n",
      " 0   weather_temperature  35 non-null     float64\n",
      " 1   over_under_line      35 non-null     float64\n",
      " 2   home_or_away         35 non-null     float64\n",
      " 3   2_game_avg           35 non-null     float64\n",
      " 4   5_game_avg           35 non-null     float64\n",
      " 5   score                35 non-null     float64\n",
      "dtypes: float64(6)\n",
      "memory usage: 1.9 KB\n"
     ]
    }
   ],
   "source": [
    "# Need to convert three columns to  float64 Dtype\n",
    "df['home_or_away'] = df['home_or_away'].astype('float64')\n",
    "df['over_under_line'] = df['over_under_line'].astype('float64')\n",
    "df['score'] = df['score'].astype('float64')\n",
    "\n",
    "df.info()"
   ]
  },
  {
   "cell_type": "code",
   "execution_count": 17,
   "metadata": {},
   "outputs": [
    {
     "data": {
      "image/png": "[encoded data removed]",
      "text/plain": [
       "<Figure size 432x288 with 1 Axes>"
      ]
     },
     "metadata": {
      "needs_background": "light"
     },
     "output_type": "display_data"
    }
   ],
   "source": [
    "plt.scatter(df['weather_temperature'], df['score'], color='red')\n",
    "plt.title('weather temperature Vs Score', fontsize=14)\n",
    "plt.xlabel('weather_temperature', fontsize=14)\n",
    "plt.ylabel('Score', fontsize=14)\n",
    "plt.grid(True)"
   ]
  },
  {
   "cell_type": "code",
   "execution_count": 18,
   "metadata": {},
   "outputs": [
    {
     "data": {
      "image/png": "[encoded data removed]",
      "text/plain": [
       "<Figure size 432x288 with 1 Axes>"
      ]
     },
     "metadata": {
      "needs_background": "light"
     },
     "output_type": "display_data"
    }
   ],
   "source": [
    "plt.scatter(df['over_under_line'], df['score'], color='red')\n",
    "plt.title('over_under_line Vs Score', fontsize=14)\n",
    "plt.xlabel('over_under_line', fontsize=14)\n",
    "plt.ylabel('Score', fontsize=14)\n",
    "plt.grid(True)"
   ]
  },
  {
   "cell_type": "code",
   "execution_count": 19,
   "metadata": {},
   "outputs": [
    {
     "data": {
      "image/png": "[encoded data removed]",
      "text/plain": [
       "<Figure size 432x288 with 1 Axes>"
      ]
     },
     "metadata": {
      "needs_background": "light"
     },
     "output_type": "display_data"
    }
   ],
   "source": [
    "plt.scatter(df['2_game_avg'], df['score'], color='red')\n",
    "plt.title('2 game average Vs Score', fontsize=14)\n",
    "plt.xlabel('2 game average', fontsize=14)\n",
    "plt.ylabel('Score', fontsize=14)\n",
    "plt.grid(True)"
   ]
  },
  {
   "cell_type": "code",
   "execution_count": 20,
   "metadata": {},
   "outputs": [
    {
     "data": {
      "image/png": "[encoded data removed]",
      "text/plain": [
       "<Figure size 432x288 with 1 Axes>"
      ]
     },
     "metadata": {
      "needs_background": "light"
     },
     "output_type": "display_data"
    }
   ],
   "source": [
    "plt.scatter(df['5_game_avg'], df['score'], color='red')\n",
    "plt.title('5 game average Vs Score', fontsize=14)\n",
    "plt.xlabel('5 game average', fontsize=14)\n",
    "plt.ylabel('Score', fontsize=14)\n",
    "plt.grid(True)"
   ]
  },
  {
   "cell_type": "code",
   "execution_count": 21,
   "metadata": {},
   "outputs": [
    {
     "data": {
      "text/plain": [
       "<AxesSubplot:xlabel='home_or_away', ylabel='score'>"
      ]
     },
     "execution_count": 21,
     "metadata": {},
     "output_type": "execute_result"
    },
    {
     "data": {
      "image/png": "[encoded data removed]",
      "text/plain": [
       "<Figure size 432x288 with 1 Axes>"
      ]
     },
     "metadata": {
      "needs_background": "light"
     },
     "output_type": "display_data"
    }
   ],
   "source": [
    "sns.boxplot(x =\"home_or_away\", y = \"score\", data = df, palette=\"Set2\")"
   ]
  },
  {
   "cell_type": "code",
   "execution_count": 22,
   "metadata": {},
   "outputs": [
    {
     "data": {
      "text/html": [
       "<div>\n",
       "<style scoped>\n",
       "    .dataframe tbody tr th:only-of-type {\n",
       "        vertical-align: middle;\n",
       "    }\n",
       "\n",
       "    .dataframe tbody tr th {\n",
       "        vertical-align: top;\n",
       "    }\n",
       "\n",
       "    .dataframe thead th {\n",
       "        text-align: right;\n",
       "    }\n",
       "</style>\n",
       "<table border=\"1\" class=\"dataframe\">\n",
       "  <thead>\n",
       "    <tr style=\"text-align: right;\">\n",
       "      <th></th>\n",
       "      <th>weather_temperature</th>\n",
       "      <th>over_under_line</th>\n",
       "      <th>home_or_away</th>\n",
       "      <th>2_game_avg</th>\n",
       "      <th>5_game_avg</th>\n",
       "      <th>score</th>\n",
       "    </tr>\n",
       "  </thead>\n",
       "  <tbody>\n",
       "    <tr>\n",
       "      <th>weather_temperature</th>\n",
       "      <td>1.000000</td>\n",
       "      <td>0.537401</td>\n",
       "      <td>-0.273802</td>\n",
       "      <td>0.030302</td>\n",
       "      <td>0.170809</td>\n",
       "      <td>0.061041</td>\n",
       "    </tr>\n",
       "    <tr>\n",
       "      <th>over_under_line</th>\n",
       "      <td>0.537401</td>\n",
       "      <td>1.000000</td>\n",
       "      <td>-0.058586</td>\n",
       "      <td>0.440801</td>\n",
       "      <td>0.595298</td>\n",
       "      <td>0.329322</td>\n",
       "    </tr>\n",
       "    <tr>\n",
       "      <th>home_or_away</th>\n",
       "      <td>-0.273802</td>\n",
       "      <td>-0.058586</td>\n",
       "      <td>1.000000</td>\n",
       "      <td>-0.101669</td>\n",
       "      <td>-0.107674</td>\n",
       "      <td>-0.069507</td>\n",
       "    </tr>\n",
       "    <tr>\n",
       "      <th>2_game_avg</th>\n",
       "      <td>0.030302</td>\n",
       "      <td>0.440801</td>\n",
       "      <td>-0.101669</td>\n",
       "      <td>1.000000</td>\n",
       "      <td>0.720320</td>\n",
       "      <td>0.795269</td>\n",
       "    </tr>\n",
       "    <tr>\n",
       "      <th>5_game_avg</th>\n",
       "      <td>0.170809</td>\n",
       "      <td>0.595298</td>\n",
       "      <td>-0.107674</td>\n",
       "      <td>0.720320</td>\n",
       "      <td>1.000000</td>\n",
       "      <td>0.549691</td>\n",
       "    </tr>\n",
       "    <tr>\n",
       "      <th>score</th>\n",
       "      <td>0.061041</td>\n",
       "      <td>0.329322</td>\n",
       "      <td>-0.069507</td>\n",
       "      <td>0.795269</td>\n",
       "      <td>0.549691</td>\n",
       "      <td>1.000000</td>\n",
       "    </tr>\n",
       "  </tbody>\n",
       "</table>\n",
       "</div>"
      ],
      "text/plain": [
       "                     weather_temperature  over_under_line  home_or_away  \\\n",
       "weather_temperature             1.000000         0.537401     -0.273802   \n",
       "over_under_line                 0.537401         1.000000     -0.058586   \n",
       "home_or_away                   -0.273802        -0.058586      1.000000   \n",
       "2_game_avg                      0.030302         0.440801     -0.101669   \n",
       "5_game_avg                      0.170809         0.595298     -0.107674   \n",
       "score                           0.061041         0.329322     -0.069507   \n",
       "\n",
       "                     2_game_avg  5_game_avg     score  \n",
       "weather_temperature    0.030302    0.170809  0.061041  \n",
       "over_under_line        0.440801    0.595298  0.329322  \n",
       "home_or_away          -0.101669   -0.107674 -0.069507  \n",
       "2_game_avg             1.000000    0.720320  0.795269  \n",
       "5_game_avg             0.720320    1.000000  0.549691  \n",
       "score                  0.795269    0.549691  1.000000  "
      ]
     },
     "execution_count": 22,
     "metadata": {},
     "output_type": "execute_result"
    }
   ],
   "source": [
    "corr = df.corr()\n",
    "corr"
   ]
  },
  {
   "cell_type": "code",
   "execution_count": 23,
   "metadata": {},
   "outputs": [
    {
     "data": {
      "text/plain": [
       "<seaborn.axisgrid.PairGrid at 0x1c1e73ea8c8>"
      ]
     },
     "execution_count": 23,
     "metadata": {},
     "output_type": "execute_result"
    },
    {
     "data": {
      "image/png": "[encoded data removed]",
      "text/plain": [
       "<Figure size 1080x1080 with 42 Axes>"
      ]
     },
     "metadata": {
      "needs_background": "light"
     },
     "output_type": "display_data"
    }
   ],
   "source": [
    "# More optional EDA\n",
    "pairplot(df)"
   ]
  },
  {
   "cell_type": "code",
   "execution_count": 24,
   "metadata": {},
   "outputs": [
    {
     "data": {
      "image/png": "[encoded data removed]",
      "text/plain": [
       "<Figure size 432x288 with 2 Axes>"
      ]
     },
     "metadata": {
      "needs_background": "light"
     },
     "output_type": "display_data"
    }
   ],
   "source": [
    "# More optional EDA\n",
    "fig= plot_corr(corr,xnames=corr.columns)"
   ]
  },
  {
   "cell_type": "code",
   "execution_count": 25,
   "metadata": {},
   "outputs": [
    {
     "name": "stdout",
     "output_type": "stream",
     "text": [
      "       2_game_avg  home_or_away\n",
      "12089        25.5           0.0\n",
      "       2_game_avg  home_or_away\n",
      "11839        34.0           1.0\n",
      "       score\n",
      "12089   24.0\n",
      "       score\n",
      "11839   38.0\n"
     ]
    }
   ],
   "source": [
    "X = pd.DataFrame(df, columns = ['2_game_avg', 'home_or_away'])\n",
    "y = pd.DataFrame(df, columns=['score'])\n",
    "\n",
    "# WITH a random_state parameter:\n",
    "#  (Same split every time! Note you can change the random state to any integer.)\n",
    "X_train, X_test, y_train, y_test = train_test_split(X, y, random_state=1)\n",
    "# Print the first element of each object.\n",
    "print(X_train.head(1))\n",
    "print(X_test.head(1))\n",
    "print(y_train.head(1))\n",
    "print(y_test.head(1))"
   ]
  },
  {
   "cell_type": "code",
   "execution_count": 26,
   "metadata": {},
   "outputs": [],
   "source": [
    "# Create linear regression model\n",
    "lin_reg_mod = LinearRegression()\n",
    "\n",
    "# Fit linear regression\n",
    "lin_reg_mod.fit(X_train, y_train)\n",
    "\n",
    "# Make prediction on the testing data\n",
    "pred = lin_reg_mod.predict(X_test)"
   ]
  },
  {
   "cell_type": "code",
   "execution_count": 27,
   "metadata": {},
   "outputs": [
    {
     "name": "stdout",
     "output_type": "stream",
     "text": [
      "[1.41370983]\n",
      "[[0.89451334 3.39181061]]\n"
     ]
    }
   ],
   "source": [
    "# Get the slope and intercept of the line best fit.\n",
    "print(lin_reg_mod.intercept_)\n",
    "\n",
    "\n",
    "print(lin_reg_mod.coef_)"
   ]
  },
  {
   "cell_type": "code",
   "execution_count": 28,
   "metadata": {},
   "outputs": [
    {
     "name": "stdout",
     "output_type": "stream",
     "text": [
      "9.308932695288604\n",
      "0.46172128359214215\n"
     ]
    }
   ],
   "source": [
    "# Calculate the Root Mean Square Error between the actual & predicted\n",
    "test_set_rmse = (np.sqrt(mean_squared_error(y_test, pred)))\n",
    "\n",
    "# Calculate the R^2 or coefficent of determination between the actual & predicted\n",
    "test_set_r2 = r2_score(y_test, pred)\n",
    "\n",
    "# Note that for rmse, the lower that value is, the better the fit\n",
    "print(test_set_rmse)\n",
    "# The closer towards 1, the better the fit\n",
    "print(test_set_r2)"
   ]
  },
  {
   "cell_type": "code",
   "execution_count": 29,
   "metadata": {
    "scrolled": true
   },
   "outputs": [
    {
     "name": "stdout",
     "output_type": "stream",
     "text": [
      "       score  Predicted  Residuals\n",
      "11839   38.0  35.218974   2.781026\n",
      "11884   17.0  21.801274  -4.801274\n",
      "11679   23.0  30.299151  -7.299151\n",
      "12050   28.0  13.936897  14.063103\n",
      "12102    0.0  15.539681 -15.539681\n",
      "12028    0.0  15.092424 -15.092424\n",
      "11924   35.0  32.535434   2.464566\n",
      "12012   23.0  19.303977   3.696023\n",
      "12008   17.0  20.012247  -3.012247\n"
     ]
    }
   ],
   "source": [
    "df_results = y_test\n",
    "df_results['Predicted'] = pred.ravel()\n",
    "df_results['Residuals'] = abs(df_results['score']) - abs(df_results['Predicted'])\n",
    "print(df_results)"
   ]
  },
  {
   "cell_type": "code",
   "execution_count": 33,
   "metadata": {},
   "outputs": [
    {
     "data": {
      "image/png": "[encoded data removed]",
      "text/plain": [
       "<Figure size 720x504 with 1 Axes>"
      ]
     },
     "metadata": {
      "needs_background": "light"
     },
     "output_type": "display_data"
    }
   ],
   "source": [
    "# Residual plot using df_result\n",
    "fig = plt.figure(figsize=(10,7))\n",
    "sns.residplot(x = \"Predicted\", y = \"score\",data = df_results, color='blue')\n",
    "\n",
    "# Title and labels.\n",
    "plt.title('Residuals', size=24)\n",
    "plt.xlabel('Predicted', size=18)\n",
    "plt.ylabel('Residual', size=18);"
   ]
  },
  {
   "cell_type": "code",
   "execution_count": 34,
   "metadata": {},
   "outputs": [
    {
     "ename": "AttributeError",
     "evalue": "'float' object has no attribute 'min'",
     "output_type": "error",
     "traceback": [
      "\u001b[1;31m---------------------------------------------------------------------------\u001b[0m",
      "\u001b[1;31mAttributeError\u001b[0m                            Traceback (most recent call last)",
      "\u001b[1;32m~\\AppData\\Local\\Temp/ipykernel_12260/1478314588.py\u001b[0m in \u001b[0;36m<module>\u001b[1;34m\u001b[0m\n\u001b[0;32m      1\u001b[0m \u001b[1;31m# Plotting the actual vs predicted values\u001b[0m\u001b[1;33m\u001b[0m\u001b[1;33m\u001b[0m\u001b[1;33m\u001b[0m\u001b[0m\n\u001b[0;32m      2\u001b[0m \u001b[0msns\u001b[0m\u001b[1;33m.\u001b[0m\u001b[0mlmplot\u001b[0m\u001b[1;33m(\u001b[0m\u001b[0mx\u001b[0m\u001b[1;33m=\u001b[0m\u001b[1;34m'score'\u001b[0m\u001b[1;33m,\u001b[0m \u001b[0my\u001b[0m\u001b[1;33m=\u001b[0m\u001b[1;34m'Predicted'\u001b[0m\u001b[1;33m,\u001b[0m \u001b[0mdata\u001b[0m\u001b[1;33m=\u001b[0m\u001b[0mdf_results\u001b[0m\u001b[1;33m,\u001b[0m \u001b[0mfit_reg\u001b[0m\u001b[1;33m=\u001b[0m\u001b[1;32mFalse\u001b[0m\u001b[1;33m)\u001b[0m\u001b[1;33m\u001b[0m\u001b[1;33m\u001b[0m\u001b[0m\n\u001b[1;32m----> 3\u001b[1;33m \u001b[0mline_coords\u001b[0m \u001b[1;33m=\u001b[0m \u001b[0mnp\u001b[0m\u001b[1;33m.\u001b[0m\u001b[0marange\u001b[0m\u001b[1;33m(\u001b[0m\u001b[0mdf_results\u001b[0m\u001b[1;33m.\u001b[0m\u001b[0mscore\u001b[0m\u001b[1;33m.\u001b[0m\u001b[0mmin\u001b[0m\u001b[1;33m(\u001b[0m\u001b[1;33m)\u001b[0m\u001b[1;33m.\u001b[0m\u001b[0mmin\u001b[0m\u001b[1;33m(\u001b[0m\u001b[1;33m)\u001b[0m\u001b[1;33m,\u001b[0m \u001b[0mdf_results\u001b[0m\u001b[1;33m.\u001b[0m\u001b[0mPredicted\u001b[0m\u001b[1;33m.\u001b[0m\u001b[0mmax\u001b[0m\u001b[1;33m(\u001b[0m\u001b[1;33m)\u001b[0m\u001b[1;33m.\u001b[0m\u001b[0mmax\u001b[0m\u001b[1;33m(\u001b[0m\u001b[1;33m)\u001b[0m\u001b[1;33m)\u001b[0m\u001b[1;33m\u001b[0m\u001b[1;33m\u001b[0m\u001b[0m\n\u001b[0m\u001b[0;32m      4\u001b[0m plt.plot(line_coords, line_coords,  # X and y points\n\u001b[0;32m      5\u001b[0m             color='darkorange', linestyle='--')\n",
      "\u001b[1;31mAttributeError\u001b[0m: 'float' object has no attribute 'min'"
     ]
    },
    {
     "data": {
      "image/png": "[encoded data removed]",
      "text/plain": [
       "<Figure size 360x360 with 1 Axes>"
      ]
     },
     "metadata": {
      "needs_background": "light"
     },
     "output_type": "display_data"
    }
   ],
   "source": [
    " # Plotting the actual vs predicted values\n",
    "sns.lmplot(x='score', y='Predicted', data=df_results, fit_reg=False)\n",
    "line_coords = np.arange(df_results.score.min().min(), df_results.Predicted.max().max())\n",
    "plt.plot(line_coords, line_coords,  # X and y points\n",
    "             color='darkorange', linestyle='--')\n",
    "plt.xlabel('Actual Score', size=10)\n",
    "plt.title('Actual vs. Predicted')\n"
   ]
  },
  {
   "cell_type": "code",
   "execution_count": 40,
   "metadata": {
    "scrolled": true
   },
   "outputs": [
    {
     "name": "stderr",
     "output_type": "stream",
     "text": [
      "C:\\Users\\bips9\\anaconda3\\envs\\fpenv\\lib\\site-packages\\seaborn\\distributions.py:2619: FutureWarning: `distplot` is a deprecated function and will be removed in a future version. Please adapt your code to use either `displot` (a figure-level function with similar flexibility) or `histplot` (an axes-level function for histograms).\n",
      "  warnings.warn(msg, FutureWarning)\n"
     ]
    },
    {
     "data": {
      "image/png": "[encoded data removed]",
      "text/plain": [
       "<Figure size 864x432 with 1 Axes>"
      ]
     },
     "metadata": {
      "needs_background": "light"
     },
     "output_type": "display_data"
    }
   ],
   "source": [
    "# Plotting the residuals distribution\n",
    "plt.subplots(figsize=(12, 6))\n",
    "plt.title('Distribution of Residuals')\n",
    "sns.distplot(df_results['Residuals'])\n",
    "plt.show()"
   ]
  },
  {
   "cell_type": "code",
   "execution_count": 36,
   "metadata": {},
   "outputs": [],
   "source": [
    "df2 = df[['2_game_avg', 'home_or_away', 'score']]\n",
    "corr2 = df2.corr()"
   ]
  },
  {
   "cell_type": "code",
   "execution_count": 37,
   "metadata": {},
   "outputs": [
    {
     "data": {
      "image/png": "[encoded data removed]",
      "text/plain": [
       "<Figure size 432x288 with 2 Axes>"
      ]
     },
     "metadata": {
      "needs_background": "light"
     },
     "output_type": "display_data"
    }
   ],
   "source": [
    "fig= plot_corr(corr2,xnames=corr2.columns)"
   ]
  },
  {
   "cell_type": "code",
   "execution_count": null,
   "metadata": {},
   "outputs": [],
   "source": []
  },
  {
   "cell_type": "code",
   "execution_count": null,
   "metadata": {},
   "outputs": [],
   "source": []
  }
 ],
 "metadata": {
  "kernelspec": {
   "display_name": "Python 3 (ipykernel)",
   "language": "python",
   "name": "python3"
  },
  "language_info": {
   "codemirror_mode": {
    "name": "ipython",
    "version": 3
   },
   "file_extension": ".py",
   "mimetype": "text/x-python",
   "name": "python",
   "nbconvert_exporter": "python",
   "pygments_lexer": "ipython3",
   "version": "3.7.11"
  }
 },
 "nbformat": 4,
 "nbformat_minor": 4
}
