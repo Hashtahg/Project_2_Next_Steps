{
 "cells": [
  {
   "cell_type": "code",
   "execution_count": 1,
   "metadata": {},
   "outputs": [],
   "source": [
    "# Used for plotting data\n",
    "%matplotlib inline\n",
    "import matplotlib.pyplot as plt\n",
    "\n",
    "# Used for data storage and manipulation \n",
    "import numpy as np\n",
    "import pandas as pd\n",
    "\n",
    "# Used for Regression Modelling\n",
    "from sklearn.linear_model import LinearRegression\n",
    "from sklearn import linear_model\n",
    "from sklearn.model_selection import train_test_split\n",
    "\n",
    "# Used for Acc metrics\n",
    "from sklearn.metrics import mean_squared_error\n",
    "from sklearn.metrics import r2_score\n",
    "\n",
    "# For stepwise regression\n",
    "import statsmodels.api as sm\n",
    "\n",
    "# box plots\n",
    "import seaborn as sns\n",
    "# pairplot\n",
    "from seaborn import pairplot\n",
    "# Correlation plot\n",
    "from statsmodels.graphics.correlation import plot_corr"
   ]
  },
  {
   "cell_type": "code",
   "execution_count": 2,
   "metadata": {},
   "outputs": [],
   "source": [
    "# Load NFL data \n",
    "data = pd.read_csv(\"NFL data.csv\")"
   ]
  },
  {
   "cell_type": "code",
   "execution_count": 3,
   "metadata": {},
   "outputs": [
    {
     "name": "stdout",
     "output_type": "stream",
     "text": [
      "(12144, 18)\n"
     ]
    },
    {
     "data": {
      "text/html": [
       "<div>\n",
       "<style scoped>\n",
       "    .dataframe tbody tr th:only-of-type {\n",
       "        vertical-align: middle;\n",
       "    }\n",
       "\n",
       "    .dataframe tbody tr th {\n",
       "        vertical-align: top;\n",
       "    }\n",
       "\n",
       "    .dataframe thead th {\n",
       "        text-align: right;\n",
       "    }\n",
       "</style>\n",
       "<table border=\"1\" class=\"dataframe\">\n",
       "  <thead>\n",
       "    <tr style=\"text-align: right;\">\n",
       "      <th></th>\n",
       "      <th>schedule_date</th>\n",
       "      <th>schedule_season</th>\n",
       "      <th>schedule_week</th>\n",
       "      <th>team_home</th>\n",
       "      <th>team_away</th>\n",
       "      <th>stadium</th>\n",
       "      <th>team_favorite_id</th>\n",
       "      <th>spread_favorite</th>\n",
       "      <th>over_under_line</th>\n",
       "      <th>weather_detail</th>\n",
       "      <th>weather_temperature</th>\n",
       "      <th>weather_wind_mph</th>\n",
       "      <th>weather_humidity</th>\n",
       "      <th>score_home</th>\n",
       "      <th>score_away</th>\n",
       "      <th>stadium_neutral</th>\n",
       "      <th>schedule_playoff</th>\n",
       "      <th>game_id</th>\n",
       "    </tr>\n",
       "  </thead>\n",
       "  <tbody>\n",
       "    <tr>\n",
       "      <th>0</th>\n",
       "      <td>09/02/1966</td>\n",
       "      <td>1966</td>\n",
       "      <td>1</td>\n",
       "      <td>Miami Dolphins</td>\n",
       "      <td>Oakland Raiders</td>\n",
       "      <td>Orange Bowl</td>\n",
       "      <td>NaN</td>\n",
       "      <td>NaN</td>\n",
       "      <td>NaN</td>\n",
       "      <td>NaN</td>\n",
       "      <td>83.0</td>\n",
       "      <td>6.0</td>\n",
       "      <td>71</td>\n",
       "      <td>14</td>\n",
       "      <td>23</td>\n",
       "      <td>False</td>\n",
       "      <td>False</td>\n",
       "      <td>19660902OAKMIA</td>\n",
       "    </tr>\n",
       "    <tr>\n",
       "      <th>1</th>\n",
       "      <td>09/03/1966</td>\n",
       "      <td>1966</td>\n",
       "      <td>1</td>\n",
       "      <td>Houston Oilers</td>\n",
       "      <td>Denver Broncos</td>\n",
       "      <td>Rice Stadium</td>\n",
       "      <td>NaN</td>\n",
       "      <td>NaN</td>\n",
       "      <td>NaN</td>\n",
       "      <td>NaN</td>\n",
       "      <td>81.0</td>\n",
       "      <td>7.0</td>\n",
       "      <td>70</td>\n",
       "      <td>45</td>\n",
       "      <td>7</td>\n",
       "      <td>False</td>\n",
       "      <td>False</td>\n",
       "      <td>19660903DENTEN</td>\n",
       "    </tr>\n",
       "    <tr>\n",
       "      <th>2</th>\n",
       "      <td>09/04/1966</td>\n",
       "      <td>1966</td>\n",
       "      <td>1</td>\n",
       "      <td>San Diego Chargers</td>\n",
       "      <td>Buffalo Bills</td>\n",
       "      <td>Balboa Stadium</td>\n",
       "      <td>NaN</td>\n",
       "      <td>NaN</td>\n",
       "      <td>NaN</td>\n",
       "      <td>NaN</td>\n",
       "      <td>70.0</td>\n",
       "      <td>7.0</td>\n",
       "      <td>82</td>\n",
       "      <td>27</td>\n",
       "      <td>7</td>\n",
       "      <td>False</td>\n",
       "      <td>False</td>\n",
       "      <td>19660904BUFLAC</td>\n",
       "    </tr>\n",
       "    <tr>\n",
       "      <th>3</th>\n",
       "      <td>09/09/1966</td>\n",
       "      <td>1966</td>\n",
       "      <td>2</td>\n",
       "      <td>Miami Dolphins</td>\n",
       "      <td>New York Jets</td>\n",
       "      <td>Orange Bowl</td>\n",
       "      <td>NaN</td>\n",
       "      <td>NaN</td>\n",
       "      <td>NaN</td>\n",
       "      <td>NaN</td>\n",
       "      <td>82.0</td>\n",
       "      <td>11.0</td>\n",
       "      <td>78</td>\n",
       "      <td>14</td>\n",
       "      <td>19</td>\n",
       "      <td>False</td>\n",
       "      <td>False</td>\n",
       "      <td>19660909NYJMIA</td>\n",
       "    </tr>\n",
       "    <tr>\n",
       "      <th>4</th>\n",
       "      <td>09/10/1966</td>\n",
       "      <td>1966</td>\n",
       "      <td>1</td>\n",
       "      <td>Green Bay Packers</td>\n",
       "      <td>Baltimore Colts</td>\n",
       "      <td>Lambeau Field</td>\n",
       "      <td>NaN</td>\n",
       "      <td>NaN</td>\n",
       "      <td>NaN</td>\n",
       "      <td>64 degrees-  humidity 62%- wind 8 mph</td>\n",
       "      <td>64.0</td>\n",
       "      <td>8.0</td>\n",
       "      <td>62</td>\n",
       "      <td>24</td>\n",
       "      <td>3</td>\n",
       "      <td>False</td>\n",
       "      <td>False</td>\n",
       "      <td>19660910INDGB</td>\n",
       "    </tr>\n",
       "  </tbody>\n",
       "</table>\n",
       "</div>"
      ],
      "text/plain": [
       "  schedule_date  schedule_season schedule_week           team_home  \\\n",
       "0    09/02/1966             1966             1      Miami Dolphins   \n",
       "1    09/03/1966             1966             1      Houston Oilers   \n",
       "2    09/04/1966             1966             1  San Diego Chargers   \n",
       "3    09/09/1966             1966             2      Miami Dolphins   \n",
       "4    09/10/1966             1966             1   Green Bay Packers   \n",
       "\n",
       "         team_away         stadium team_favorite_id  spread_favorite  \\\n",
       "0  Oakland Raiders     Orange Bowl              NaN              NaN   \n",
       "1   Denver Broncos    Rice Stadium              NaN              NaN   \n",
       "2    Buffalo Bills  Balboa Stadium              NaN              NaN   \n",
       "3    New York Jets     Orange Bowl              NaN              NaN   \n",
       "4  Baltimore Colts   Lambeau Field              NaN              NaN   \n",
       "\n",
       "  over_under_line                         weather_detail  weather_temperature  \\\n",
       "0             NaN                                    NaN                 83.0   \n",
       "1             NaN                                    NaN                 81.0   \n",
       "2             NaN                                    NaN                 70.0   \n",
       "3             NaN                                    NaN                 82.0   \n",
       "4             NaN  64 degrees-  humidity 62%- wind 8 mph                 64.0   \n",
       "\n",
       "   weather_wind_mph weather_humidity  score_home  score_away  stadium_neutral  \\\n",
       "0               6.0               71          14          23            False   \n",
       "1               7.0               70          45           7            False   \n",
       "2               7.0               82          27           7            False   \n",
       "3              11.0               78          14          19            False   \n",
       "4               8.0               62          24           3            False   \n",
       "\n",
       "   schedule_playoff         game_id  \n",
       "0             False  19660902OAKMIA  \n",
       "1             False  19660903DENTEN  \n",
       "2             False  19660904BUFLAC  \n",
       "3             False  19660909NYJMIA  \n",
       "4             False   19660910INDGB  "
      ]
     },
     "execution_count": 3,
     "metadata": {},
     "output_type": "execute_result"
    }
   ],
   "source": [
    "# adding .head() to your dataset allows you to see the first rows in the dataset. \n",
    "# Add a # inside the brackets to specificy how many rows are returned or else 5 rows are returned.\n",
    "print(data.shape)\n",
    "# (12144, 18)\n",
    "data.head()"
   ]
  },
  {
   "cell_type": "code",
   "execution_count": 4,
   "metadata": {},
   "outputs": [],
   "source": [
    "# return only rows where the year is greater than 2009\n",
    "current = data[(data['schedule_season'] > 2015)]"
   ]
  },
  {
   "cell_type": "code",
   "execution_count": 5,
   "metadata": {},
   "outputs": [
    {
     "data": {
      "text/plain": [
       "schedule_date            0\n",
       "schedule_season          0\n",
       "schedule_week            0\n",
       "team_home                0\n",
       "team_away                0\n",
       "stadium                  7\n",
       "team_favorite_id         0\n",
       "spread_favorite          0\n",
       "over_under_line          0\n",
       "weather_detail         381\n",
       "weather_temperature      0\n",
       "weather_wind_mph         0\n",
       "weather_humidity       534\n",
       "score_home               0\n",
       "score_away               0\n",
       "stadium_neutral          0\n",
       "schedule_playoff         0\n",
       "game_id                278\n",
       "dtype: int64"
      ]
     },
     "execution_count": 5,
     "metadata": {},
     "output_type": "execute_result"
    }
   ],
   "source": [
    "# check for the null values in each column\n",
    "current.isna().sum()"
   ]
  },
  {
   "cell_type": "code",
   "execution_count": 6,
   "metadata": {},
   "outputs": [],
   "source": [
    "# Delete Columns with missing value greater than 20%\n",
    "current = current.dropna(thresh=0.8*len(current), axis=1)"
   ]
  },
  {
   "cell_type": "code",
   "execution_count": 7,
   "metadata": {
    "scrolled": true
   },
   "outputs": [
    {
     "data": {
      "text/plain": [
       "schedule_date          0\n",
       "schedule_season        0\n",
       "schedule_week          0\n",
       "team_home              0\n",
       "team_away              0\n",
       "stadium                7\n",
       "team_favorite_id       0\n",
       "spread_favorite        0\n",
       "over_under_line        0\n",
       "weather_temperature    0\n",
       "weather_wind_mph       0\n",
       "score_home             0\n",
       "score_away             0\n",
       "stadium_neutral        0\n",
       "schedule_playoff       0\n",
       "dtype: int64"
      ]
     },
     "execution_count": 7,
     "metadata": {},
     "output_type": "execute_result"
    }
   ],
   "source": [
    "# check AGAIN for the null values in each column \n",
    "current.isna().sum()"
   ]
  },
  {
   "cell_type": "code",
   "execution_count": 8,
   "metadata": {},
   "outputs": [
    {
     "name": "stdout",
     "output_type": "stream",
     "text": [
      "<class 'pandas.core.frame.DataFrame'>\n",
      "Int64Index: 534 entries, 11610 to 12143\n",
      "Data columns (total 15 columns):\n",
      " #   Column               Non-Null Count  Dtype  \n",
      "---  ------               --------------  -----  \n",
      " 0   schedule_date        534 non-null    object \n",
      " 1   schedule_season      534 non-null    int64  \n",
      " 2   schedule_week        534 non-null    object \n",
      " 3   team_home            534 non-null    object \n",
      " 4   team_away            534 non-null    object \n",
      " 5   stadium              527 non-null    object \n",
      " 6   team_favorite_id     534 non-null    object \n",
      " 7   spread_favorite      534 non-null    float64\n",
      " 8   over_under_line      534 non-null    object \n",
      " 9   weather_temperature  534 non-null    float64\n",
      " 10  weather_wind_mph     534 non-null    float64\n",
      " 11  score_home           534 non-null    int64  \n",
      " 12  score_away           534 non-null    int64  \n",
      " 13  stadium_neutral      534 non-null    bool   \n",
      " 14  schedule_playoff     534 non-null    bool   \n",
      "dtypes: bool(2), float64(3), int64(3), object(7)\n",
      "memory usage: 59.4+ KB\n"
     ]
    }
   ],
   "source": [
    "current.info()"
   ]
  },
  {
   "cell_type": "code",
   "execution_count": 9,
   "metadata": {},
   "outputs": [
    {
     "data": {
      "text/html": [
       "<div>\n",
       "<style scoped>\n",
       "    .dataframe tbody tr th:only-of-type {\n",
       "        vertical-align: middle;\n",
       "    }\n",
       "\n",
       "    .dataframe tbody tr th {\n",
       "        vertical-align: top;\n",
       "    }\n",
       "\n",
       "    .dataframe thead th {\n",
       "        text-align: right;\n",
       "    }\n",
       "</style>\n",
       "<table border=\"1\" class=\"dataframe\">\n",
       "  <thead>\n",
       "    <tr style=\"text-align: right;\">\n",
       "      <th></th>\n",
       "      <th>schedule_season</th>\n",
       "      <th>spread_favorite</th>\n",
       "      <th>weather_temperature</th>\n",
       "      <th>weather_wind_mph</th>\n",
       "      <th>score_home</th>\n",
       "      <th>score_away</th>\n",
       "    </tr>\n",
       "  </thead>\n",
       "  <tbody>\n",
       "    <tr>\n",
       "      <th>count</th>\n",
       "      <td>534.000000</td>\n",
       "      <td>534.000000</td>\n",
       "      <td>534.000000</td>\n",
       "      <td>534.000000</td>\n",
       "      <td>534.000000</td>\n",
       "      <td>534.000000</td>\n",
       "    </tr>\n",
       "    <tr>\n",
       "      <th>mean</th>\n",
       "      <td>2016.500000</td>\n",
       "      <td>-5.014045</td>\n",
       "      <td>61.715356</td>\n",
       "      <td>4.767790</td>\n",
       "      <td>23.692884</td>\n",
       "      <td>20.988764</td>\n",
       "    </tr>\n",
       "    <tr>\n",
       "      <th>std</th>\n",
       "      <td>0.500469</td>\n",
       "      <td>3.195372</td>\n",
       "      <td>17.083765</td>\n",
       "      <td>4.547685</td>\n",
       "      <td>10.055347</td>\n",
       "      <td>9.498290</td>\n",
       "    </tr>\n",
       "    <tr>\n",
       "      <th>min</th>\n",
       "      <td>2016.000000</td>\n",
       "      <td>-17.000000</td>\n",
       "      <td>2.000000</td>\n",
       "      <td>0.000000</td>\n",
       "      <td>0.000000</td>\n",
       "      <td>0.000000</td>\n",
       "    </tr>\n",
       "    <tr>\n",
       "      <th>25%</th>\n",
       "      <td>2016.000000</td>\n",
       "      <td>-7.000000</td>\n",
       "      <td>51.250000</td>\n",
       "      <td>0.000000</td>\n",
       "      <td>17.000000</td>\n",
       "      <td>14.000000</td>\n",
       "    </tr>\n",
       "    <tr>\n",
       "      <th>50%</th>\n",
       "      <td>2016.500000</td>\n",
       "      <td>-4.000000</td>\n",
       "      <td>68.000000</td>\n",
       "      <td>4.000000</td>\n",
       "      <td>24.000000</td>\n",
       "      <td>20.000000</td>\n",
       "    </tr>\n",
       "    <tr>\n",
       "      <th>75%</th>\n",
       "      <td>2017.000000</td>\n",
       "      <td>-3.000000</td>\n",
       "      <td>72.000000</td>\n",
       "      <td>7.000000</td>\n",
       "      <td>30.000000</td>\n",
       "      <td>27.000000</td>\n",
       "    </tr>\n",
       "    <tr>\n",
       "      <th>max</th>\n",
       "      <td>2017.000000</td>\n",
       "      <td>0.000000</td>\n",
       "      <td>91.000000</td>\n",
       "      <td>24.000000</td>\n",
       "      <td>57.000000</td>\n",
       "      <td>51.000000</td>\n",
       "    </tr>\n",
       "  </tbody>\n",
       "</table>\n",
       "</div>"
      ],
      "text/plain": [
       "       schedule_season  spread_favorite  weather_temperature  \\\n",
       "count       534.000000       534.000000           534.000000   \n",
       "mean       2016.500000        -5.014045            61.715356   \n",
       "std           0.500469         3.195372            17.083765   \n",
       "min        2016.000000       -17.000000             2.000000   \n",
       "25%        2016.000000        -7.000000            51.250000   \n",
       "50%        2016.500000        -4.000000            68.000000   \n",
       "75%        2017.000000        -3.000000            72.000000   \n",
       "max        2017.000000         0.000000            91.000000   \n",
       "\n",
       "       weather_wind_mph  score_home  score_away  \n",
       "count        534.000000  534.000000  534.000000  \n",
       "mean           4.767790   23.692884   20.988764  \n",
       "std            4.547685   10.055347    9.498290  \n",
       "min            0.000000    0.000000    0.000000  \n",
       "25%            0.000000   17.000000   14.000000  \n",
       "50%            4.000000   24.000000   20.000000  \n",
       "75%            7.000000   30.000000   27.000000  \n",
       "max           24.000000   57.000000   51.000000  "
      ]
     },
     "execution_count": 9,
     "metadata": {},
     "output_type": "execute_result"
    }
   ],
   "source": [
    "# Gives you summary statistics on your numeric columns\n",
    "current.describe()"
   ]
  },
  {
   "cell_type": "code",
   "execution_count": 10,
   "metadata": {},
   "outputs": [
    {
     "data": {
      "text/html": [
       "<div>\n",
       "<style scoped>\n",
       "    .dataframe tbody tr th:only-of-type {\n",
       "        vertical-align: middle;\n",
       "    }\n",
       "\n",
       "    .dataframe tbody tr th {\n",
       "        vertical-align: top;\n",
       "    }\n",
       "\n",
       "    .dataframe thead th {\n",
       "        text-align: right;\n",
       "    }\n",
       "</style>\n",
       "<table border=\"1\" class=\"dataframe\">\n",
       "  <thead>\n",
       "    <tr style=\"text-align: right;\">\n",
       "      <th></th>\n",
       "      <th>schedule_date</th>\n",
       "      <th>schedule_season</th>\n",
       "      <th>schedule_week</th>\n",
       "      <th>team_home</th>\n",
       "      <th>team_away</th>\n",
       "      <th>stadium</th>\n",
       "      <th>team_favorite_id</th>\n",
       "      <th>spread_favorite</th>\n",
       "      <th>over_under_line</th>\n",
       "      <th>weather_temperature</th>\n",
       "      <th>weather_wind_mph</th>\n",
       "      <th>score_home</th>\n",
       "      <th>score_away</th>\n",
       "      <th>stadium_neutral</th>\n",
       "      <th>schedule_playoff</th>\n",
       "    </tr>\n",
       "  </thead>\n",
       "  <tbody>\n",
       "    <tr>\n",
       "      <th>11610</th>\n",
       "      <td>09/08/2016</td>\n",
       "      <td>2016</td>\n",
       "      <td>1</td>\n",
       "      <td>Denver Broncos</td>\n",
       "      <td>Carolina Panthers</td>\n",
       "      <td>Sports Authority Field at Mile High</td>\n",
       "      <td>CAR</td>\n",
       "      <td>-3.0</td>\n",
       "      <td>40.5</td>\n",
       "      <td>82.0</td>\n",
       "      <td>2.0</td>\n",
       "      <td>21</td>\n",
       "      <td>20</td>\n",
       "      <td>False</td>\n",
       "      <td>False</td>\n",
       "    </tr>\n",
       "    <tr>\n",
       "      <th>11611</th>\n",
       "      <td>09/11/2016</td>\n",
       "      <td>2016</td>\n",
       "      <td>1</td>\n",
       "      <td>Arizona Cardinals</td>\n",
       "      <td>New England Patriots</td>\n",
       "      <td>University of Phoenix Stadium</td>\n",
       "      <td>ARI</td>\n",
       "      <td>-8.5</td>\n",
       "      <td>44</td>\n",
       "      <td>72.0</td>\n",
       "      <td>0.0</td>\n",
       "      <td>21</td>\n",
       "      <td>23</td>\n",
       "      <td>False</td>\n",
       "      <td>False</td>\n",
       "    </tr>\n",
       "    <tr>\n",
       "      <th>11612</th>\n",
       "      <td>09/11/2016</td>\n",
       "      <td>2016</td>\n",
       "      <td>1</td>\n",
       "      <td>Atlanta Falcons</td>\n",
       "      <td>Tampa Bay Buccaneers</td>\n",
       "      <td>Georgia Dome</td>\n",
       "      <td>ATL</td>\n",
       "      <td>-2.5</td>\n",
       "      <td>47</td>\n",
       "      <td>72.0</td>\n",
       "      <td>0.0</td>\n",
       "      <td>24</td>\n",
       "      <td>31</td>\n",
       "      <td>False</td>\n",
       "      <td>False</td>\n",
       "    </tr>\n",
       "    <tr>\n",
       "      <th>11613</th>\n",
       "      <td>09/11/2016</td>\n",
       "      <td>2016</td>\n",
       "      <td>1</td>\n",
       "      <td>Baltimore Ravens</td>\n",
       "      <td>Buffalo Bills</td>\n",
       "      <td>M&amp;T Bank Stadium</td>\n",
       "      <td>BAL</td>\n",
       "      <td>-3.0</td>\n",
       "      <td>44.5</td>\n",
       "      <td>82.0</td>\n",
       "      <td>7.0</td>\n",
       "      <td>13</td>\n",
       "      <td>7</td>\n",
       "      <td>False</td>\n",
       "      <td>False</td>\n",
       "    </tr>\n",
       "    <tr>\n",
       "      <th>11614</th>\n",
       "      <td>09/11/2016</td>\n",
       "      <td>2016</td>\n",
       "      <td>1</td>\n",
       "      <td>Dallas Cowboys</td>\n",
       "      <td>New York Giants</td>\n",
       "      <td>Cowboys Stadium</td>\n",
       "      <td>NYG</td>\n",
       "      <td>-1.0</td>\n",
       "      <td>47.5</td>\n",
       "      <td>72.0</td>\n",
       "      <td>0.0</td>\n",
       "      <td>19</td>\n",
       "      <td>20</td>\n",
       "      <td>False</td>\n",
       "      <td>False</td>\n",
       "    </tr>\n",
       "    <tr>\n",
       "      <th>11615</th>\n",
       "      <td>09/11/2016</td>\n",
       "      <td>2016</td>\n",
       "      <td>1</td>\n",
       "      <td>Houston Texans</td>\n",
       "      <td>Chicago Bears</td>\n",
       "      <td>Reliant Stadium</td>\n",
       "      <td>HOU</td>\n",
       "      <td>-5.5</td>\n",
       "      <td>42.5</td>\n",
       "      <td>87.0</td>\n",
       "      <td>2.0</td>\n",
       "      <td>23</td>\n",
       "      <td>14</td>\n",
       "      <td>False</td>\n",
       "      <td>False</td>\n",
       "    </tr>\n",
       "    <tr>\n",
       "      <th>11616</th>\n",
       "      <td>09/11/2016</td>\n",
       "      <td>2016</td>\n",
       "      <td>1</td>\n",
       "      <td>Indianapolis Colts</td>\n",
       "      <td>Detroit Lions</td>\n",
       "      <td>Lucas Oil Stadium</td>\n",
       "      <td>IND</td>\n",
       "      <td>-2.5</td>\n",
       "      <td>51.5</td>\n",
       "      <td>72.0</td>\n",
       "      <td>0.0</td>\n",
       "      <td>35</td>\n",
       "      <td>39</td>\n",
       "      <td>False</td>\n",
       "      <td>False</td>\n",
       "    </tr>\n",
       "    <tr>\n",
       "      <th>11617</th>\n",
       "      <td>09/11/2016</td>\n",
       "      <td>2016</td>\n",
       "      <td>1</td>\n",
       "      <td>Jacksonville Jaguars</td>\n",
       "      <td>Green Bay Packers</td>\n",
       "      <td>EverBank Field</td>\n",
       "      <td>GB</td>\n",
       "      <td>-3.5</td>\n",
       "      <td>47.5</td>\n",
       "      <td>91.0</td>\n",
       "      <td>1.0</td>\n",
       "      <td>23</td>\n",
       "      <td>27</td>\n",
       "      <td>False</td>\n",
       "      <td>False</td>\n",
       "    </tr>\n",
       "    <tr>\n",
       "      <th>11618</th>\n",
       "      <td>09/11/2016</td>\n",
       "      <td>2016</td>\n",
       "      <td>1</td>\n",
       "      <td>Kansas City Chiefs</td>\n",
       "      <td>San Diego Chargers</td>\n",
       "      <td>Arrowhead Stadium</td>\n",
       "      <td>KC</td>\n",
       "      <td>-6.5</td>\n",
       "      <td>46</td>\n",
       "      <td>73.0</td>\n",
       "      <td>7.0</td>\n",
       "      <td>33</td>\n",
       "      <td>27</td>\n",
       "      <td>False</td>\n",
       "      <td>False</td>\n",
       "    </tr>\n",
       "    <tr>\n",
       "      <th>11619</th>\n",
       "      <td>09/11/2016</td>\n",
       "      <td>2016</td>\n",
       "      <td>1</td>\n",
       "      <td>New Orleans Saints</td>\n",
       "      <td>Oakland Raiders</td>\n",
       "      <td>Louisiana Superdome</td>\n",
       "      <td>NO</td>\n",
       "      <td>-3.0</td>\n",
       "      <td>50.5</td>\n",
       "      <td>72.0</td>\n",
       "      <td>0.0</td>\n",
       "      <td>34</td>\n",
       "      <td>35</td>\n",
       "      <td>False</td>\n",
       "      <td>False</td>\n",
       "    </tr>\n",
       "  </tbody>\n",
       "</table>\n",
       "</div>"
      ],
      "text/plain": [
       "      schedule_date  schedule_season schedule_week             team_home  \\\n",
       "11610    09/08/2016             2016             1        Denver Broncos   \n",
       "11611    09/11/2016             2016             1     Arizona Cardinals   \n",
       "11612    09/11/2016             2016             1       Atlanta Falcons   \n",
       "11613    09/11/2016             2016             1      Baltimore Ravens   \n",
       "11614    09/11/2016             2016             1        Dallas Cowboys   \n",
       "11615    09/11/2016             2016             1        Houston Texans   \n",
       "11616    09/11/2016             2016             1    Indianapolis Colts   \n",
       "11617    09/11/2016             2016             1  Jacksonville Jaguars   \n",
       "11618    09/11/2016             2016             1    Kansas City Chiefs   \n",
       "11619    09/11/2016             2016             1    New Orleans Saints   \n",
       "\n",
       "                  team_away                              stadium  \\\n",
       "11610     Carolina Panthers  Sports Authority Field at Mile High   \n",
       "11611  New England Patriots        University of Phoenix Stadium   \n",
       "11612  Tampa Bay Buccaneers                         Georgia Dome   \n",
       "11613         Buffalo Bills                     M&T Bank Stadium   \n",
       "11614       New York Giants                      Cowboys Stadium   \n",
       "11615         Chicago Bears                      Reliant Stadium   \n",
       "11616         Detroit Lions                    Lucas Oil Stadium   \n",
       "11617     Green Bay Packers                       EverBank Field   \n",
       "11618    San Diego Chargers                    Arrowhead Stadium   \n",
       "11619       Oakland Raiders                  Louisiana Superdome   \n",
       "\n",
       "      team_favorite_id  spread_favorite over_under_line  weather_temperature  \\\n",
       "11610              CAR             -3.0            40.5                 82.0   \n",
       "11611              ARI             -8.5              44                 72.0   \n",
       "11612              ATL             -2.5              47                 72.0   \n",
       "11613              BAL             -3.0            44.5                 82.0   \n",
       "11614              NYG             -1.0            47.5                 72.0   \n",
       "11615              HOU             -5.5            42.5                 87.0   \n",
       "11616              IND             -2.5            51.5                 72.0   \n",
       "11617               GB             -3.5            47.5                 91.0   \n",
       "11618               KC             -6.5              46                 73.0   \n",
       "11619               NO             -3.0            50.5                 72.0   \n",
       "\n",
       "       weather_wind_mph  score_home  score_away  stadium_neutral  \\\n",
       "11610               2.0          21          20            False   \n",
       "11611               0.0          21          23            False   \n",
       "11612               0.0          24          31            False   \n",
       "11613               7.0          13           7            False   \n",
       "11614               0.0          19          20            False   \n",
       "11615               2.0          23          14            False   \n",
       "11616               0.0          35          39            False   \n",
       "11617               1.0          23          27            False   \n",
       "11618               7.0          33          27            False   \n",
       "11619               0.0          34          35            False   \n",
       "\n",
       "       schedule_playoff  \n",
       "11610             False  \n",
       "11611             False  \n",
       "11612             False  \n",
       "11613             False  \n",
       "11614             False  \n",
       "11615             False  \n",
       "11616             False  \n",
       "11617             False  \n",
       "11618             False  \n",
       "11619             False  "
      ]
     },
     "execution_count": 10,
     "metadata": {},
     "output_type": "execute_result"
    }
   ],
   "source": [
    "current.head(10)"
   ]
  },
  {
   "cell_type": "code",
   "execution_count": 11,
   "metadata": {},
   "outputs": [],
   "source": [
    "#  no warning message and no exception is raised\n",
    "pd.options.mode.chained_assignment = None  # default='warn'\n",
    "# Create a column titled home or away. This column will add a 1 to the row where the Tennessee Titans played at home \n",
    "# and a 0 for away games.\n",
    "current['home_or_away'] = np.where(current['team_home'] == 'Tennessee Titans', 1, 0)"
   ]
  },
  {
   "cell_type": "code",
   "execution_count": 38,
   "metadata": {},
   "outputs": [
    {
     "data": {
      "text/html": [
       "<div>\n",
       "<style scoped>\n",
       "    .dataframe tbody tr th:only-of-type {\n",
       "        vertical-align: middle;\n",
       "    }\n",
       "\n",
       "    .dataframe tbody tr th {\n",
       "        vertical-align: top;\n",
       "    }\n",
       "\n",
       "    .dataframe thead th {\n",
       "        text-align: right;\n",
       "    }\n",
       "</style>\n",
       "<table border=\"1\" class=\"dataframe\">\n",
       "  <thead>\n",
       "    <tr style=\"text-align: right;\">\n",
       "      <th></th>\n",
       "      <th>team_home</th>\n",
       "      <th>team_away</th>\n",
       "      <th>score_home</th>\n",
       "      <th>score_away</th>\n",
       "      <th>weather_temperature</th>\n",
       "      <th>weather_wind_mph</th>\n",
       "      <th>home_or_away</th>\n",
       "      <th>over_under_line</th>\n",
       "      <th>score</th>\n",
       "    </tr>\n",
       "  </thead>\n",
       "  <tbody>\n",
       "    <tr>\n",
       "      <th>11623</th>\n",
       "      <td>Tennessee Titans</td>\n",
       "      <td>Minnesota Vikings</td>\n",
       "      <td>16</td>\n",
       "      <td>25</td>\n",
       "      <td>77.0</td>\n",
       "      <td>3.0</td>\n",
       "      <td>1</td>\n",
       "      <td>40</td>\n",
       "      <td>16</td>\n",
       "    </tr>\n",
       "    <tr>\n",
       "      <th>11631</th>\n",
       "      <td>Detroit Lions</td>\n",
       "      <td>Tennessee Titans</td>\n",
       "      <td>15</td>\n",
       "      <td>16</td>\n",
       "      <td>72.0</td>\n",
       "      <td>0.0</td>\n",
       "      <td>0</td>\n",
       "      <td>48</td>\n",
       "      <td>16</td>\n",
       "    </tr>\n",
       "    <tr>\n",
       "      <th>11656</th>\n",
       "      <td>Tennessee Titans</td>\n",
       "      <td>Oakland Raiders</td>\n",
       "      <td>10</td>\n",
       "      <td>17</td>\n",
       "      <td>89.0</td>\n",
       "      <td>3.0</td>\n",
       "      <td>1</td>\n",
       "      <td>47</td>\n",
       "      <td>10</td>\n",
       "    </tr>\n",
       "    <tr>\n",
       "      <th>11663</th>\n",
       "      <td>Houston Texans</td>\n",
       "      <td>Tennessee Titans</td>\n",
       "      <td>27</td>\n",
       "      <td>20</td>\n",
       "      <td>82.0</td>\n",
       "      <td>4.0</td>\n",
       "      <td>0</td>\n",
       "      <td>40</td>\n",
       "      <td>20</td>\n",
       "    </tr>\n",
       "    <tr>\n",
       "      <th>11682</th>\n",
       "      <td>Miami Dolphins</td>\n",
       "      <td>Tennessee Titans</td>\n",
       "      <td>17</td>\n",
       "      <td>30</td>\n",
       "      <td>87.0</td>\n",
       "      <td>12.0</td>\n",
       "      <td>0</td>\n",
       "      <td>44.5</td>\n",
       "      <td>30</td>\n",
       "    </tr>\n",
       "  </tbody>\n",
       "</table>\n",
       "</div>"
      ],
      "text/plain": [
       "              team_home          team_away  score_home  score_away  \\\n",
       "11623  Tennessee Titans  Minnesota Vikings          16          25   \n",
       "11631     Detroit Lions   Tennessee Titans          15          16   \n",
       "11656  Tennessee Titans    Oakland Raiders          10          17   \n",
       "11663    Houston Texans   Tennessee Titans          27          20   \n",
       "11682    Miami Dolphins   Tennessee Titans          17          30   \n",
       "\n",
       "       weather_temperature  weather_wind_mph  home_or_away over_under_line  \\\n",
       "11623                 77.0               3.0             1              40   \n",
       "11631                 72.0               0.0             0              48   \n",
       "11656                 89.0               3.0             1              47   \n",
       "11663                 82.0               4.0             0              40   \n",
       "11682                 87.0              12.0             0            44.5   \n",
       "\n",
       "       score  \n",
       "11623     16  \n",
       "11631     16  \n",
       "11656     10  \n",
       "11663     20  \n",
       "11682     30  "
      ]
     },
     "execution_count": 38,
     "metadata": {},
     "output_type": "execute_result"
    }
   ],
   "source": [
    "# Return rows where Tennessee Titans are either the home or away team\n",
    "current2 = current.loc[(current[\"team_home\"] == \"Tennessee Titans\") | (current[\"team_away\"] == \"Tennessee Titans\")]\n",
    "\n",
    "# filter to certain columns\n",
    "final = current2.filter([\"team_home\",\"team_away\" , \"score_home\",\"score_away\" ,\"weather_temperature\",\"weather_wind_mph\",\"home_or_away\", \"over_under_line\"])\n",
    "\n",
    "# merge score_away & score_home into column 'score'\n",
    "final['score'] = np.where(final['team_away'] == 'Tennessee Titans', final['score_away'], final['score_home'])\n",
    "\n",
    "\n",
    "# Before showing our final dataset we will drop any rows with NA values.\n",
    "final = final.dropna()\n",
    "final.head()"
   ]
  },
  {
   "cell_type": "code",
   "execution_count": 13,
   "metadata": {},
   "outputs": [
    {
     "data": {
      "text/html": [
       "<div>\n",
       "<style scoped>\n",
       "    .dataframe tbody tr th:only-of-type {\n",
       "        vertical-align: middle;\n",
       "    }\n",
       "\n",
       "    .dataframe tbody tr th {\n",
       "        vertical-align: top;\n",
       "    }\n",
       "\n",
       "    .dataframe thead th {\n",
       "        text-align: right;\n",
       "    }\n",
       "</style>\n",
       "<table border=\"1\" class=\"dataframe\">\n",
       "  <thead>\n",
       "    <tr style=\"text-align: right;\">\n",
       "      <th></th>\n",
       "      <th>team_home</th>\n",
       "      <th>team_away</th>\n",
       "      <th>score_home</th>\n",
       "      <th>score_away</th>\n",
       "      <th>weather_temperature</th>\n",
       "      <th>weather_wind_mph</th>\n",
       "      <th>home_or_away</th>\n",
       "      <th>over_under_line</th>\n",
       "      <th>score</th>\n",
       "      <th>2_game_avg</th>\n",
       "      <th>5_game_avg</th>\n",
       "    </tr>\n",
       "  </thead>\n",
       "  <tbody>\n",
       "    <tr>\n",
       "      <th>11623</th>\n",
       "      <td>Tennessee Titans</td>\n",
       "      <td>Minnesota Vikings</td>\n",
       "      <td>16</td>\n",
       "      <td>25</td>\n",
       "      <td>77.0</td>\n",
       "      <td>3.0</td>\n",
       "      <td>1</td>\n",
       "      <td>40</td>\n",
       "      <td>16</td>\n",
       "      <td>NaN</td>\n",
       "      <td>NaN</td>\n",
       "    </tr>\n",
       "    <tr>\n",
       "      <th>11631</th>\n",
       "      <td>Detroit Lions</td>\n",
       "      <td>Tennessee Titans</td>\n",
       "      <td>15</td>\n",
       "      <td>16</td>\n",
       "      <td>72.0</td>\n",
       "      <td>0.0</td>\n",
       "      <td>0</td>\n",
       "      <td>48</td>\n",
       "      <td>15</td>\n",
       "      <td>NaN</td>\n",
       "      <td>NaN</td>\n",
       "    </tr>\n",
       "    <tr>\n",
       "      <th>11656</th>\n",
       "      <td>Tennessee Titans</td>\n",
       "      <td>Oakland Raiders</td>\n",
       "      <td>10</td>\n",
       "      <td>17</td>\n",
       "      <td>89.0</td>\n",
       "      <td>3.0</td>\n",
       "      <td>1</td>\n",
       "      <td>47</td>\n",
       "      <td>10</td>\n",
       "      <td>15.5</td>\n",
       "      <td>NaN</td>\n",
       "    </tr>\n",
       "    <tr>\n",
       "      <th>11663</th>\n",
       "      <td>Houston Texans</td>\n",
       "      <td>Tennessee Titans</td>\n",
       "      <td>27</td>\n",
       "      <td>20</td>\n",
       "      <td>82.0</td>\n",
       "      <td>4.0</td>\n",
       "      <td>0</td>\n",
       "      <td>40</td>\n",
       "      <td>27</td>\n",
       "      <td>12.5</td>\n",
       "      <td>NaN</td>\n",
       "    </tr>\n",
       "    <tr>\n",
       "      <th>11682</th>\n",
       "      <td>Miami Dolphins</td>\n",
       "      <td>Tennessee Titans</td>\n",
       "      <td>17</td>\n",
       "      <td>30</td>\n",
       "      <td>87.0</td>\n",
       "      <td>12.0</td>\n",
       "      <td>0</td>\n",
       "      <td>44.5</td>\n",
       "      <td>17</td>\n",
       "      <td>18.5</td>\n",
       "      <td>NaN</td>\n",
       "    </tr>\n",
       "    <tr>\n",
       "      <th>11699</th>\n",
       "      <td>Tennessee Titans</td>\n",
       "      <td>Cleveland Browns</td>\n",
       "      <td>28</td>\n",
       "      <td>26</td>\n",
       "      <td>79.0</td>\n",
       "      <td>7.0</td>\n",
       "      <td>1</td>\n",
       "      <td>44.5</td>\n",
       "      <td>28</td>\n",
       "      <td>22.0</td>\n",
       "      <td>17.0</td>\n",
       "    </tr>\n",
       "    <tr>\n",
       "      <th>11715</th>\n",
       "      <td>Tennessee Titans</td>\n",
       "      <td>Indianapolis Colts</td>\n",
       "      <td>26</td>\n",
       "      <td>34</td>\n",
       "      <td>71.0</td>\n",
       "      <td>5.0</td>\n",
       "      <td>1</td>\n",
       "      <td>48</td>\n",
       "      <td>26</td>\n",
       "      <td>22.5</td>\n",
       "      <td>19.4</td>\n",
       "    </tr>\n",
       "    <tr>\n",
       "      <th>11717</th>\n",
       "      <td>Tennessee Titans</td>\n",
       "      <td>Jacksonville Jaguars</td>\n",
       "      <td>36</td>\n",
       "      <td>22</td>\n",
       "      <td>66.0</td>\n",
       "      <td>4.0</td>\n",
       "      <td>1</td>\n",
       "      <td>43.5</td>\n",
       "      <td>36</td>\n",
       "      <td>27.0</td>\n",
       "      <td>21.6</td>\n",
       "    </tr>\n",
       "    <tr>\n",
       "      <th>11740</th>\n",
       "      <td>San Diego Chargers</td>\n",
       "      <td>Tennessee Titans</td>\n",
       "      <td>43</td>\n",
       "      <td>35</td>\n",
       "      <td>74.0</td>\n",
       "      <td>3.0</td>\n",
       "      <td>0</td>\n",
       "      <td>47.5</td>\n",
       "      <td>43</td>\n",
       "      <td>31.0</td>\n",
       "      <td>26.8</td>\n",
       "    </tr>\n",
       "    <tr>\n",
       "      <th>11754</th>\n",
       "      <td>Tennessee Titans</td>\n",
       "      <td>Green Bay Packers</td>\n",
       "      <td>47</td>\n",
       "      <td>25</td>\n",
       "      <td>55.0</td>\n",
       "      <td>0.0</td>\n",
       "      <td>1</td>\n",
       "      <td>49</td>\n",
       "      <td>25</td>\n",
       "      <td>39.5</td>\n",
       "      <td>30.0</td>\n",
       "    </tr>\n",
       "  </tbody>\n",
       "</table>\n",
       "</div>"
      ],
      "text/plain": [
       "                team_home             team_away  score_home  score_away  \\\n",
       "11623    Tennessee Titans     Minnesota Vikings          16          25   \n",
       "11631       Detroit Lions      Tennessee Titans          15          16   \n",
       "11656    Tennessee Titans       Oakland Raiders          10          17   \n",
       "11663      Houston Texans      Tennessee Titans          27          20   \n",
       "11682      Miami Dolphins      Tennessee Titans          17          30   \n",
       "11699    Tennessee Titans      Cleveland Browns          28          26   \n",
       "11715    Tennessee Titans    Indianapolis Colts          26          34   \n",
       "11717    Tennessee Titans  Jacksonville Jaguars          36          22   \n",
       "11740  San Diego Chargers      Tennessee Titans          43          35   \n",
       "11754    Tennessee Titans     Green Bay Packers          47          25   \n",
       "\n",
       "       weather_temperature  weather_wind_mph  home_or_away over_under_line  \\\n",
       "11623                 77.0               3.0             1              40   \n",
       "11631                 72.0               0.0             0              48   \n",
       "11656                 89.0               3.0             1              47   \n",
       "11663                 82.0               4.0             0              40   \n",
       "11682                 87.0              12.0             0            44.5   \n",
       "11699                 79.0               7.0             1            44.5   \n",
       "11715                 71.0               5.0             1              48   \n",
       "11717                 66.0               4.0             1            43.5   \n",
       "11740                 74.0               3.0             0            47.5   \n",
       "11754                 55.0               0.0             1              49   \n",
       "\n",
       "       score  2_game_avg  5_game_avg  \n",
       "11623     16         NaN         NaN  \n",
       "11631     15         NaN         NaN  \n",
       "11656     10        15.5         NaN  \n",
       "11663     27        12.5         NaN  \n",
       "11682     17        18.5         NaN  \n",
       "11699     28        22.0        17.0  \n",
       "11715     26        22.5        19.4  \n",
       "11717     36        27.0        21.6  \n",
       "11740     43        31.0        26.8  \n",
       "11754     25        39.5        30.0  "
      ]
     },
     "execution_count": 13,
     "metadata": {},
     "output_type": "execute_result"
    }
   ],
   "source": [
    "final['2_game_avg'] = final.score.shift(periods=1).rolling(window=2).mean()\n",
    "final['5_game_avg'] = final.score.shift(periods=1).rolling(window=5).mean()\n",
    "final.head(10)"
   ]
  },
  {
   "cell_type": "code",
   "execution_count": 14,
   "metadata": {},
   "outputs": [
    {
     "name": "stderr",
     "output_type": "stream",
     "text": [
      "C:\\Users\\bips9\\anaconda3\\envs\\fpenv\\lib\\site-packages\\ipykernel_launcher.py:2: FutureWarning: Dropping of nuisance columns in DataFrame reductions (with 'numeric_only=None') is deprecated; in a future version this will raise TypeError.  Select only valid columns before calling the reduction.\n",
      "  \n"
     ]
    }
   ],
   "source": [
    "# Fill in the first 2 instances & first 5 instances with mean \n",
    "final = final.fillna(final.mean())"
   ]
  },
  {
   "cell_type": "code",
   "execution_count": 15,
   "metadata": {
    "scrolled": true
   },
   "outputs": [
    {
     "data": {
      "text/html": [
       "<div>\n",
       "<style scoped>\n",
       "    .dataframe tbody tr th:only-of-type {\n",
       "        vertical-align: middle;\n",
       "    }\n",
       "\n",
       "    .dataframe tbody tr th {\n",
       "        vertical-align: top;\n",
       "    }\n",
       "\n",
       "    .dataframe thead th {\n",
       "        text-align: right;\n",
       "    }\n",
       "</style>\n",
       "<table border=\"1\" class=\"dataframe\">\n",
       "  <thead>\n",
       "    <tr style=\"text-align: right;\">\n",
       "      <th></th>\n",
       "      <th>score_home</th>\n",
       "      <th>score_away</th>\n",
       "      <th>weather_temperature</th>\n",
       "      <th>weather_wind_mph</th>\n",
       "      <th>home_or_away</th>\n",
       "      <th>score</th>\n",
       "      <th>2_game_avg</th>\n",
       "      <th>5_game_avg</th>\n",
       "    </tr>\n",
       "  </thead>\n",
       "  <tbody>\n",
       "    <tr>\n",
       "      <th>count</th>\n",
       "      <td>34.000000</td>\n",
       "      <td>34.000000</td>\n",
       "      <td>34.000000</td>\n",
       "      <td>34.000000</td>\n",
       "      <td>34.000000</td>\n",
       "      <td>34.000000</td>\n",
       "      <td>34.000000</td>\n",
       "      <td>34.000000</td>\n",
       "    </tr>\n",
       "    <tr>\n",
       "      <th>mean</th>\n",
       "      <td>24.794118</td>\n",
       "      <td>20.529412</td>\n",
       "      <td>62.176471</td>\n",
       "      <td>5.235294</td>\n",
       "      <td>0.470588</td>\n",
       "      <td>24.147059</td>\n",
       "      <td>23.984375</td>\n",
       "      <td>24.648276</td>\n",
       "    </tr>\n",
       "    <tr>\n",
       "      <th>std</th>\n",
       "      <td>11.302398</td>\n",
       "      <td>7.398752</td>\n",
       "      <td>21.400185</td>\n",
       "      <td>4.264432</td>\n",
       "      <td>0.506640</td>\n",
       "      <td>10.600550</td>\n",
       "      <td>7.394187</td>\n",
       "      <td>3.912267</td>\n",
       "    </tr>\n",
       "    <tr>\n",
       "      <th>min</th>\n",
       "      <td>9.000000</td>\n",
       "      <td>7.000000</td>\n",
       "      <td>2.000000</td>\n",
       "      <td>0.000000</td>\n",
       "      <td>0.000000</td>\n",
       "      <td>9.000000</td>\n",
       "      <td>12.500000</td>\n",
       "      <td>17.000000</td>\n",
       "    </tr>\n",
       "    <tr>\n",
       "      <th>25%</th>\n",
       "      <td>16.000000</td>\n",
       "      <td>16.250000</td>\n",
       "      <td>50.000000</td>\n",
       "      <td>2.000000</td>\n",
       "      <td>0.000000</td>\n",
       "      <td>16.000000</td>\n",
       "      <td>18.500000</td>\n",
       "      <td>21.750000</td>\n",
       "    </tr>\n",
       "    <tr>\n",
       "      <th>50%</th>\n",
       "      <td>23.500000</td>\n",
       "      <td>20.000000</td>\n",
       "      <td>71.500000</td>\n",
       "      <td>4.000000</td>\n",
       "      <td>0.000000</td>\n",
       "      <td>23.500000</td>\n",
       "      <td>23.000000</td>\n",
       "      <td>24.648276</td>\n",
       "    </tr>\n",
       "    <tr>\n",
       "      <th>75%</th>\n",
       "      <td>31.750000</td>\n",
       "      <td>25.750000</td>\n",
       "      <td>74.750000</td>\n",
       "      <td>7.750000</td>\n",
       "      <td>1.000000</td>\n",
       "      <td>27.750000</td>\n",
       "      <td>27.375000</td>\n",
       "      <td>27.400000</td>\n",
       "    </tr>\n",
       "    <tr>\n",
       "      <th>max</th>\n",
       "      <td>57.000000</td>\n",
       "      <td>37.000000</td>\n",
       "      <td>89.000000</td>\n",
       "      <td>17.000000</td>\n",
       "      <td>1.000000</td>\n",
       "      <td>57.000000</td>\n",
       "      <td>45.000000</td>\n",
       "      <td>31.600000</td>\n",
       "    </tr>\n",
       "  </tbody>\n",
       "</table>\n",
       "</div>"
      ],
      "text/plain": [
       "       score_home  score_away  weather_temperature  weather_wind_mph  \\\n",
       "count   34.000000   34.000000            34.000000         34.000000   \n",
       "mean    24.794118   20.529412            62.176471          5.235294   \n",
       "std     11.302398    7.398752            21.400185          4.264432   \n",
       "min      9.000000    7.000000             2.000000          0.000000   \n",
       "25%     16.000000   16.250000            50.000000          2.000000   \n",
       "50%     23.500000   20.000000            71.500000          4.000000   \n",
       "75%     31.750000   25.750000            74.750000          7.750000   \n",
       "max     57.000000   37.000000            89.000000         17.000000   \n",
       "\n",
       "       home_or_away      score  2_game_avg  5_game_avg  \n",
       "count     34.000000  34.000000   34.000000   34.000000  \n",
       "mean       0.470588  24.147059   23.984375   24.648276  \n",
       "std        0.506640  10.600550    7.394187    3.912267  \n",
       "min        0.000000   9.000000   12.500000   17.000000  \n",
       "25%        0.000000  16.000000   18.500000   21.750000  \n",
       "50%        0.000000  23.500000   23.000000   24.648276  \n",
       "75%        1.000000  27.750000   27.375000   27.400000  \n",
       "max        1.000000  57.000000   45.000000   31.600000  "
      ]
     },
     "execution_count": 15,
     "metadata": {},
     "output_type": "execute_result"
    }
   ],
   "source": [
    "# This time we're checking for Outliers. Check each columns min & max to make sure the # is plausible\n",
    "final.describe()"
   ]
  },
  {
   "cell_type": "code",
   "execution_count": 16,
   "metadata": {},
   "outputs": [],
   "source": [
    "df = final[['weather_temperature','weather_wind_mph' ,'over_under_line','home_or_away', '2_game_avg','5_game_avg', 'score']]"
   ]
  },
  {
   "cell_type": "code",
   "execution_count": 17,
   "metadata": {},
   "outputs": [
    {
     "name": "stdout",
     "output_type": "stream",
     "text": [
      "<class 'pandas.core.frame.DataFrame'>\n",
      "Int64Index: 34 entries, 11623 to 12137\n",
      "Data columns (total 7 columns):\n",
      " #   Column               Non-Null Count  Dtype  \n",
      "---  ------               --------------  -----  \n",
      " 0   weather_temperature  34 non-null     float64\n",
      " 1   weather_wind_mph     34 non-null     float64\n",
      " 2   over_under_line      34 non-null     object \n",
      " 3   home_or_away         34 non-null     int32  \n",
      " 4   2_game_avg           34 non-null     float64\n",
      " 5   5_game_avg           34 non-null     float64\n",
      " 6   score                34 non-null     int64  \n",
      "dtypes: float64(4), int32(1), int64(1), object(1)\n",
      "memory usage: 2.0+ KB\n"
     ]
    }
   ],
   "source": [
    "df.info()"
   ]
  },
  {
   "cell_type": "code",
   "execution_count": 18,
   "metadata": {},
   "outputs": [
    {
     "name": "stdout",
     "output_type": "stream",
     "text": [
      "<class 'pandas.core.frame.DataFrame'>\n",
      "Int64Index: 34 entries, 11623 to 12137\n",
      "Data columns (total 7 columns):\n",
      " #   Column               Non-Null Count  Dtype  \n",
      "---  ------               --------------  -----  \n",
      " 0   weather_temperature  34 non-null     float64\n",
      " 1   weather_wind_mph     34 non-null     float64\n",
      " 2   over_under_line      34 non-null     float64\n",
      " 3   home_or_away         34 non-null     float64\n",
      " 4   2_game_avg           34 non-null     float64\n",
      " 5   5_game_avg           34 non-null     float64\n",
      " 6   score                34 non-null     float64\n",
      "dtypes: float64(7)\n",
      "memory usage: 2.1 KB\n"
     ]
    }
   ],
   "source": [
    "# Need to convert three columns to  float64 Dtype\n",
    "df['home_or_away'] = df['home_or_away'].astype('float64')\n",
    "df['over_under_line'] = df['over_under_line'].astype('float64')\n",
    "df['score'] = df['score'].astype('float64')\n",
    "\n",
    "df.info()"
   ]
  },
  {
   "cell_type": "code",
   "execution_count": 19,
   "metadata": {},
   "outputs": [
    {
     "data": {
      "image/png": "[encoded data removed]",
      "text/plain": [
       "<Figure size 432x288 with 1 Axes>"
      ]
     },
     "metadata": {
      "needs_background": "light"
     },
     "output_type": "display_data"
    }
   ],
   "source": [
    "plt.scatter(df['weather_temperature'], df['score'], color='red')\n",
    "plt.title('weather temperature Vs Score', fontsize=14)\n",
    "plt.xlabel('weather_temperature', fontsize=14)\n",
    "plt.ylabel('Score', fontsize=14)\n",
    "plt.grid(True)"
   ]
  },
  {
   "cell_type": "code",
   "execution_count": 20,
   "metadata": {},
   "outputs": [
    {
     "data": {
      "image/png": "[encoded data removed]",
      "text/plain": [
       "<Figure size 432x288 with 1 Axes>"
      ]
     },
     "metadata": {
      "needs_background": "light"
     },
     "output_type": "display_data"
    }
   ],
   "source": [
    "plt.scatter(df['weather_wind_mph'], df['score'], color='red')\n",
    "plt.title('weather temperature Vs Score', fontsize=14)\n",
    "plt.xlabel('weather_temperature', fontsize=14)\n",
    "plt.ylabel('Score', fontsize=14)\n",
    "plt.grid(True)"
   ]
  },
  {
   "cell_type": "code",
   "execution_count": 21,
   "metadata": {},
   "outputs": [
    {
     "data": {
      "image/png": "[encoded data removed]",
      "text/plain": [
       "<Figure size 432x288 with 1 Axes>"
      ]
     },
     "metadata": {
      "needs_background": "light"
     },
     "output_type": "display_data"
    }
   ],
   "source": [
    "plt.scatter(df['over_under_line'], df['score'], color='red')\n",
    "plt.title('over_under_line Vs Score', fontsize=14)\n",
    "plt.xlabel('over_under_line', fontsize=14)\n",
    "plt.ylabel('Score', fontsize=14)\n",
    "plt.grid(True)"
   ]
  },
  {
   "cell_type": "code",
   "execution_count": 22,
   "metadata": {},
   "outputs": [
    {
     "data": {
      "image/png": "[encoded data removed]",
      "text/plain": [
       "<Figure size 432x288 with 1 Axes>"
      ]
     },
     "metadata": {
      "needs_background": "light"
     },
     "output_type": "display_data"
    }
   ],
   "source": [
    "plt.scatter(df['2_game_avg'], df['score'], color='red')\n",
    "plt.title('2 game average Vs Score', fontsize=14)\n",
    "plt.xlabel('2 game average', fontsize=14)\n",
    "plt.ylabel('Score', fontsize=14)\n",
    "plt.grid(True)"
   ]
  },
  {
   "cell_type": "code",
   "execution_count": 23,
   "metadata": {},
   "outputs": [
    {
     "data": {
      "image/png": "[encoded data removed]",
      "text/plain": [
       "<Figure size 432x288 with 1 Axes>"
      ]
     },
     "metadata": {
      "needs_background": "light"
     },
     "output_type": "display_data"
    }
   ],
   "source": [
    "plt.scatter(df['5_game_avg'], df['score'], color='red')\n",
    "plt.title('5 game average Vs Score', fontsize=14)\n",
    "plt.xlabel('5 game average', fontsize=14)\n",
    "plt.ylabel('Score', fontsize=14)\n",
    "plt.grid(True)"
   ]
  },
  {
   "cell_type": "code",
   "execution_count": 24,
   "metadata": {
    "scrolled": true
   },
   "outputs": [
    {
     "data": {
      "text/plain": [
       "<AxesSubplot:xlabel='home_or_away', ylabel='score'>"
      ]
     },
     "execution_count": 24,
     "metadata": {},
     "output_type": "execute_result"
    },
    {
     "data": {
      "image/png": "[encoded data removed]",
      "text/plain": [
       "<Figure size 432x288 with 1 Axes>"
      ]
     },
     "metadata": {
      "needs_background": "light"
     },
     "output_type": "display_data"
    }
   ],
   "source": [
    "sns.boxplot(x =\"home_or_away\", y = \"score\", data = df, palette=\"Set2\")"
   ]
  },
  {
   "cell_type": "code",
   "execution_count": 25,
   "metadata": {},
   "outputs": [
    {
     "data": {
      "text/html": [
       "<div>\n",
       "<style scoped>\n",
       "    .dataframe tbody tr th:only-of-type {\n",
       "        vertical-align: middle;\n",
       "    }\n",
       "\n",
       "    .dataframe tbody tr th {\n",
       "        vertical-align: top;\n",
       "    }\n",
       "\n",
       "    .dataframe thead th {\n",
       "        text-align: right;\n",
       "    }\n",
       "</style>\n",
       "<table border=\"1\" class=\"dataframe\">\n",
       "  <thead>\n",
       "    <tr style=\"text-align: right;\">\n",
       "      <th></th>\n",
       "      <th>weather_temperature</th>\n",
       "      <th>weather_wind_mph</th>\n",
       "      <th>over_under_line</th>\n",
       "      <th>home_or_away</th>\n",
       "      <th>2_game_avg</th>\n",
       "      <th>5_game_avg</th>\n",
       "      <th>score</th>\n",
       "    </tr>\n",
       "  </thead>\n",
       "  <tbody>\n",
       "    <tr>\n",
       "      <th>weather_temperature</th>\n",
       "      <td>1.000000</td>\n",
       "      <td>-0.067211</td>\n",
       "      <td>0.059856</td>\n",
       "      <td>0.014468</td>\n",
       "      <td>0.122602</td>\n",
       "      <td>0.125592</td>\n",
       "      <td>-0.050344</td>\n",
       "    </tr>\n",
       "    <tr>\n",
       "      <th>weather_wind_mph</th>\n",
       "      <td>-0.067211</td>\n",
       "      <td>1.000000</td>\n",
       "      <td>-0.066278</td>\n",
       "      <td>0.017326</td>\n",
       "      <td>-0.238109</td>\n",
       "      <td>-0.141549</td>\n",
       "      <td>-0.160330</td>\n",
       "    </tr>\n",
       "    <tr>\n",
       "      <th>over_under_line</th>\n",
       "      <td>0.059856</td>\n",
       "      <td>-0.066278</td>\n",
       "      <td>1.000000</td>\n",
       "      <td>-0.076548</td>\n",
       "      <td>0.357581</td>\n",
       "      <td>0.047768</td>\n",
       "      <td>0.100175</td>\n",
       "    </tr>\n",
       "    <tr>\n",
       "      <th>home_or_away</th>\n",
       "      <td>0.014468</td>\n",
       "      <td>0.017326</td>\n",
       "      <td>-0.076548</td>\n",
       "      <td>1.000000</td>\n",
       "      <td>0.074697</td>\n",
       "      <td>-0.123466</td>\n",
       "      <td>-0.080984</td>\n",
       "    </tr>\n",
       "    <tr>\n",
       "      <th>2_game_avg</th>\n",
       "      <td>0.122602</td>\n",
       "      <td>-0.238109</td>\n",
       "      <td>0.357581</td>\n",
       "      <td>0.074697</td>\n",
       "      <td>1.000000</td>\n",
       "      <td>0.430738</td>\n",
       "      <td>0.012891</td>\n",
       "    </tr>\n",
       "    <tr>\n",
       "      <th>5_game_avg</th>\n",
       "      <td>0.125592</td>\n",
       "      <td>-0.141549</td>\n",
       "      <td>0.047768</td>\n",
       "      <td>-0.123466</td>\n",
       "      <td>0.430738</td>\n",
       "      <td>1.000000</td>\n",
       "      <td>-0.232599</td>\n",
       "    </tr>\n",
       "    <tr>\n",
       "      <th>score</th>\n",
       "      <td>-0.050344</td>\n",
       "      <td>-0.160330</td>\n",
       "      <td>0.100175</td>\n",
       "      <td>-0.080984</td>\n",
       "      <td>0.012891</td>\n",
       "      <td>-0.232599</td>\n",
       "      <td>1.000000</td>\n",
       "    </tr>\n",
       "  </tbody>\n",
       "</table>\n",
       "</div>"
      ],
      "text/plain": [
       "                     weather_temperature  weather_wind_mph  over_under_line  \\\n",
       "weather_temperature             1.000000         -0.067211         0.059856   \n",
       "weather_wind_mph               -0.067211          1.000000        -0.066278   \n",
       "over_under_line                 0.059856         -0.066278         1.000000   \n",
       "home_or_away                    0.014468          0.017326        -0.076548   \n",
       "2_game_avg                      0.122602         -0.238109         0.357581   \n",
       "5_game_avg                      0.125592         -0.141549         0.047768   \n",
       "score                          -0.050344         -0.160330         0.100175   \n",
       "\n",
       "                     home_or_away  2_game_avg  5_game_avg     score  \n",
       "weather_temperature      0.014468    0.122602    0.125592 -0.050344  \n",
       "weather_wind_mph         0.017326   -0.238109   -0.141549 -0.160330  \n",
       "over_under_line         -0.076548    0.357581    0.047768  0.100175  \n",
       "home_or_away             1.000000    0.074697   -0.123466 -0.080984  \n",
       "2_game_avg               0.074697    1.000000    0.430738  0.012891  \n",
       "5_game_avg              -0.123466    0.430738    1.000000 -0.232599  \n",
       "score                   -0.080984    0.012891   -0.232599  1.000000  "
      ]
     },
     "execution_count": 25,
     "metadata": {},
     "output_type": "execute_result"
    }
   ],
   "source": [
    "corr = df.corr()\n",
    "corr"
   ]
  },
  {
   "cell_type": "code",
   "execution_count": 26,
   "metadata": {},
   "outputs": [
    {
     "data": {
      "text/plain": [
       "<seaborn.axisgrid.PairGrid at 0x29b78b3bcc8>"
      ]
     },
     "execution_count": 26,
     "metadata": {},
     "output_type": "execute_result"
    },
    {
     "data": {
      "image/png": "[encoded data removed]",
      "text/plain": [
       "<Figure size 1260x1260 with 56 Axes>"
      ]
     },
     "metadata": {
      "needs_background": "light"
     },
     "output_type": "display_data"
    }
   ],
   "source": [
    "# More optional EDA\n",
    "pairplot(df)"
   ]
  },
  {
   "cell_type": "code",
   "execution_count": 27,
   "metadata": {},
   "outputs": [
    {
     "data": {
      "image/png": "[encoded data removed]",
      "text/plain": [
       "<Figure size 432x288 with 2 Axes>"
      ]
     },
     "metadata": {
      "needs_background": "light"
     },
     "output_type": "display_data"
    }
   ],
   "source": [
    "# More optional EDA\n",
    "fig= plot_corr(corr,xnames=corr.columns)"
   ]
  },
  {
   "cell_type": "code",
   "execution_count": 28,
   "metadata": {},
   "outputs": [
    {
     "name": "stdout",
     "output_type": "stream",
     "text": [
      "       weather_temperature  home_or_away\n",
      "12113                 39.0           1.0\n",
      "       weather_temperature  home_or_away\n",
      "11841                 65.0           0.0\n",
      "       score\n",
      "12113   23.0\n",
      "       score\n",
      "11841   38.0\n"
     ]
    }
   ],
   "source": [
    "X = pd.DataFrame(df, columns = ['weather_temperature', 'home_or_away'])\n",
    "y = pd.DataFrame(df, columns=['score'])\n",
    "\n",
    "# WITH a random_state parameter:\n",
    "#  (Same split every time! Note you can change the random state to any integer.)\n",
    "X_train, X_test, y_train, y_test = train_test_split(X, y, random_state=1)\n",
    "# Print the first element of each object.\n",
    "print(X_train.head(1))\n",
    "print(X_test.head(1))\n",
    "print(y_train.head(1))\n",
    "print(y_test.head(1))"
   ]
  },
  {
   "cell_type": "code",
   "execution_count": 29,
   "metadata": {},
   "outputs": [],
   "source": [
    "# Create linear regression model\n",
    "lin_reg_mod = LinearRegression()\n",
    "\n",
    "# Fit linear regression\n",
    "lin_reg_mod.fit(X_train, y_train)\n",
    "\n",
    "# Make prediction on the testing data\n",
    "pred = lin_reg_mod.predict(X_test)"
   ]
  },
  {
   "cell_type": "code",
   "execution_count": 30,
   "metadata": {},
   "outputs": [
    {
     "name": "stdout",
     "output_type": "stream",
     "text": [
      "[22.42251205]\n",
      "[[-0.01904764  1.9271491 ]]\n"
     ]
    }
   ],
   "source": [
    "# Get the slope and intercept of the line best fit.\n",
    "print(lin_reg_mod.intercept_)\n",
    "\n",
    "\n",
    "print(lin_reg_mod.coef_)"
   ]
  },
  {
   "cell_type": "code",
   "execution_count": 31,
   "metadata": {},
   "outputs": [
    {
     "name": "stdout",
     "output_type": "stream",
     "text": [
      "14.894357214153391\n",
      "-0.38501557134631237\n"
     ]
    }
   ],
   "source": [
    "# Calculate the Root Mean Square Error between the actual & predicted\n",
    "test_set_rmse = (np.sqrt(mean_squared_error(y_test, pred)))\n",
    "\n",
    "# Calculate the R^2 or coefficent of determination between the actual & predicted\n",
    "test_set_r2 = r2_score(y_test, pred)\n",
    "\n",
    "# Note that for rmse, the lower that value is, the better the fit\n",
    "print(test_set_rmse)\n",
    "# The closer towards 1, the better the fit\n",
    "print(test_set_r2)"
   ]
  },
  {
   "cell_type": "code",
   "execution_count": 32,
   "metadata": {
    "scrolled": true
   },
   "outputs": [
    {
     "name": "stdout",
     "output_type": "stream",
     "text": [
      "       score  Predicted  Residuals\n",
      "11841   38.0  21.184415  16.815585\n",
      "11931   57.0  21.051082  35.948918\n",
      "11663   27.0  20.860606   6.139394\n",
      "12067   24.0  23.206803   0.793197\n",
      "12133   21.0  21.793940  -0.793940\n",
      "12043   16.0  21.051082  -5.051082\n",
      "11948   16.0  20.727272  -4.727272\n",
      "12023   40.0  21.717749  18.282251\n",
      "12020   24.0  23.340136   0.659864\n"
     ]
    }
   ],
   "source": [
    "df_results = y_test\n",
    "df_results['Predicted'] = pred.ravel()\n",
    "df_results['Residuals'] = abs(df_results['score']) - abs(df_results['Predicted'])\n",
    "print(df_results)"
   ]
  },
  {
   "cell_type": "code",
   "execution_count": 33,
   "metadata": {},
   "outputs": [
    {
     "data": {
      "image/png": "[encoded data removed]",
      "text/plain": [
       "<Figure size 720x504 with 1 Axes>"
      ]
     },
     "metadata": {
      "needs_background": "light"
     },
     "output_type": "display_data"
    }
   ],
   "source": [
    "# Residual plot using df_result\n",
    "fig = plt.figure(figsize=(10,7))\n",
    "sns.residplot(x = \"Predicted\", y = \"score\",data = df_results, color='blue')\n",
    "\n",
    "# Title and labels.\n",
    "plt.title('Residuals', size=24)\n",
    "plt.xlabel('Predicted', size=18)\n",
    "plt.ylabel('Residual', size=18);"
   ]
  },
  {
   "cell_type": "code",
   "execution_count": 34,
   "metadata": {},
   "outputs": [
    {
     "ename": "AttributeError",
     "evalue": "'float' object has no attribute 'min'",
     "output_type": "error",
     "traceback": [
      "\u001b[1;31m---------------------------------------------------------------------------\u001b[0m",
      "\u001b[1;31mAttributeError\u001b[0m                            Traceback (most recent call last)",
      "\u001b[1;32m~\\AppData\\Local\\Temp/ipykernel_86076/922937681.py\u001b[0m in \u001b[0;36m<module>\u001b[1;34m\u001b[0m\n\u001b[0;32m      2\u001b[0m \u001b[0msns\u001b[0m\u001b[1;33m.\u001b[0m\u001b[0mlmplot\u001b[0m\u001b[1;33m(\u001b[0m\u001b[0mx\u001b[0m\u001b[1;33m=\u001b[0m\u001b[1;34m'score'\u001b[0m\u001b[1;33m,\u001b[0m \u001b[0my\u001b[0m\u001b[1;33m=\u001b[0m\u001b[1;34m'Predicted'\u001b[0m\u001b[1;33m,\u001b[0m \u001b[0mdata\u001b[0m\u001b[1;33m=\u001b[0m\u001b[0mdf_results\u001b[0m\u001b[1;33m,\u001b[0m \u001b[0mfit_reg\u001b[0m\u001b[1;33m=\u001b[0m\u001b[1;32mFalse\u001b[0m\u001b[1;33m)\u001b[0m\u001b[1;33m\u001b[0m\u001b[1;33m\u001b[0m\u001b[0m\n\u001b[0;32m      3\u001b[0m \u001b[1;33m\u001b[0m\u001b[0m\n\u001b[1;32m----> 4\u001b[1;33m \u001b[0mline_coords\u001b[0m \u001b[1;33m=\u001b[0m \u001b[0mnp\u001b[0m\u001b[1;33m.\u001b[0m\u001b[0marange\u001b[0m\u001b[1;33m(\u001b[0m\u001b[0mdf_results\u001b[0m\u001b[1;33m.\u001b[0m\u001b[0mscore\u001b[0m\u001b[1;33m.\u001b[0m\u001b[0mmin\u001b[0m\u001b[1;33m(\u001b[0m\u001b[1;33m)\u001b[0m\u001b[1;33m.\u001b[0m\u001b[0mmin\u001b[0m\u001b[1;33m(\u001b[0m\u001b[1;33m)\u001b[0m\u001b[1;33m,\u001b[0m \u001b[0mdf_results\u001b[0m\u001b[1;33m.\u001b[0m\u001b[0mPredicted\u001b[0m\u001b[1;33m.\u001b[0m\u001b[0mmax\u001b[0m\u001b[1;33m(\u001b[0m\u001b[1;33m)\u001b[0m\u001b[1;33m.\u001b[0m\u001b[0mmax\u001b[0m\u001b[1;33m(\u001b[0m\u001b[1;33m)\u001b[0m\u001b[1;33m)\u001b[0m\u001b[1;33m\u001b[0m\u001b[1;33m\u001b[0m\u001b[0m\n\u001b[0m\u001b[0;32m      5\u001b[0m \u001b[1;33m\u001b[0m\u001b[0m\n\u001b[0;32m      6\u001b[0m plt.plot(line_coords, line_coords,  # X and y points\n",
      "\u001b[1;31mAttributeError\u001b[0m: 'float' object has no attribute 'min'"
     ]
    },
    {
     "data": {
      "image/png": "[encoded data removed]",
      "text/plain": [
       "<Figure size 360x360 with 1 Axes>"
      ]
     },
     "metadata": {
      "needs_background": "light"
     },
     "output_type": "display_data"
    }
   ],
   "source": [
    "# Plotting the actual vs predicted values\n",
    "sns.lmplot(x='score', y='Predicted', data=df_results, fit_reg=False)\n",
    "\n",
    "line_coords = np.arange(df_results.score.min().min(), df_results.Predicted.max().max())\n",
    "\n",
    "plt.plot(line_coords, line_coords,  # X and y points\n",
    "             color='darkorange', linestyle='--')\n",
    "\n",
    "plt.xlabel('Actual Score', size=10)\n",
    "\n",
    "plt.title('Actual vs. Predicted')"
   ]
  },
  {
   "cell_type": "code",
   "execution_count": 35,
   "metadata": {},
   "outputs": [
    {
     "name": "stderr",
     "output_type": "stream",
     "text": [
      "C:\\Users\\bips9\\anaconda3\\envs\\fpenv\\lib\\site-packages\\seaborn\\distributions.py:2619: FutureWarning: `distplot` is a deprecated function and will be removed in a future version. Please adapt your code to use either `displot` (a figure-level function with similar flexibility) or `histplot` (an axes-level function for histograms).\n",
      "  warnings.warn(msg, FutureWarning)\n"
     ]
    },
    {
     "data": {
      "image/png": "[encoded data removed]",
      "text/plain": [
       "<Figure size 864x432 with 1 Axes>"
      ]
     },
     "metadata": {
      "needs_background": "light"
     },
     "output_type": "display_data"
    }
   ],
   "source": [
    "# Plotting the residuals distribution\n",
    "plt.subplots(figsize=(12, 6))\n",
    "plt.title('Distribution of Residuals')\n",
    "sns.distplot(df_results['Residuals'])\n",
    "plt.show()"
   ]
  },
  {
   "cell_type": "code",
   "execution_count": 36,
   "metadata": {},
   "outputs": [],
   "source": [
    "df2 = df[['weather_temperature', 'home_or_away', 'score']]\n",
    "corr2 = df2.corr()"
   ]
  },
  {
   "cell_type": "code",
   "execution_count": 37,
   "metadata": {},
   "outputs": [
    {
     "data": {
      "image/png": "[encoded data removed]",
      "text/plain": [
       "<Figure size 432x288 with 2 Axes>"
      ]
     },
     "metadata": {
      "needs_background": "light"
     },
     "output_type": "display_data"
    }
   ],
   "source": [
    "fig= plot_corr(corr2,xnames=corr2.columns)"
   ]
  },
  {
   "cell_type": "code",
   "execution_count": null,
   "metadata": {},
   "outputs": [],
   "source": []
  }
 ],
 "metadata": {
  "kernelspec": {
   "display_name": "Python 3 (ipykernel)",
   "language": "python",
   "name": "python3"
  },
  "language_info": {
   "codemirror_mode": {
    "name": "ipython",
    "version": 3
   },
   "file_extension": ".py",
   "mimetype": "text/x-python",
   "name": "python",
   "nbconvert_exporter": "python",
   "pygments_lexer": "ipython3",
   "version": "3.7.11"
  }
 },
 "nbformat": 4,
 "nbformat_minor": 4
}
